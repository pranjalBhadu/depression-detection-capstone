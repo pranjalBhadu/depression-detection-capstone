{
  "cells": [
    {
      "cell_type": "code",
      "execution_count": null,
      "metadata": {
        "colab": {
          "base_uri": "https://localhost:8080/"
        },
        "id": "o5bc7RSDva0p",
        "outputId": "c721ea24-1993-479a-e9e2-6b4cd760ca04"
      },
      "outputs": [
        {
          "output_type": "stream",
          "name": "stdout",
          "text": [
            "\u001b[33mWARNING: Skipping twint as it is not installed.\u001b[0m\n"
          ]
        }
      ],
      "source": [
        "!pip3 uninstall twint -y ## If already installed"
      ]
    },
    {
      "cell_type": "code",
      "execution_count": null,
      "metadata": {
        "colab": {
          "base_uri": "https://localhost:8080/",
          "height": 1000
        },
        "id": "B4e00oe8va0u",
        "outputId": "af3b5918-f6bb-4664-8f2b-d1b3b273489e"
      },
      "outputs": [
        {
          "output_type": "stream",
          "name": "stdout",
          "text": [
            "Collecting twint\n",
            "  Cloning https://github.com/twintproject/twint.git (to revision origin/master) to /tmp/pip-install-5eival0h/twint_8008d48308bd4649bf95f1de9356a745\n",
            "  Running command git clone -q https://github.com/twintproject/twint.git /tmp/pip-install-5eival0h/twint_8008d48308bd4649bf95f1de9356a745\n",
            "\u001b[33m  WARNING: Did not find branch or tag 'origin/master', assuming revision or ref.\u001b[0m\n",
            "  Running command git checkout -q origin/master\n",
            "Collecting aiohttp\n",
            "  Downloading aiohttp-3.8.1-cp37-cp37m-manylinux_2_5_x86_64.manylinux1_x86_64.manylinux_2_12_x86_64.manylinux2010_x86_64.whl (1.1 MB)\n",
            "\u001b[K     |████████████████████████████████| 1.1 MB 4.2 MB/s \n",
            "\u001b[?25hCollecting aiodns\n",
            "  Downloading aiodns-3.0.0-py3-none-any.whl (5.0 kB)\n",
            "Requirement already satisfied: beautifulsoup4 in /usr/local/lib/python3.7/dist-packages (from twint) (4.6.3)\n",
            "Collecting cchardet\n",
            "  Downloading cchardet-2.1.7-cp37-cp37m-manylinux2010_x86_64.whl (263 kB)\n",
            "\u001b[K     |████████████████████████████████| 263 kB 46.7 MB/s \n",
            "\u001b[?25hCollecting dataclasses\n",
            "  Downloading dataclasses-0.6-py3-none-any.whl (14 kB)\n",
            "Collecting elasticsearch\n",
            "  Downloading elasticsearch-8.0.0-py3-none-any.whl (369 kB)\n",
            "\u001b[K     |████████████████████████████████| 369 kB 48.9 MB/s \n",
            "\u001b[?25hRequirement already satisfied: pysocks in /usr/local/lib/python3.7/dist-packages (from twint) (1.7.1)\n",
            "Requirement already satisfied: pandas in /usr/local/lib/python3.7/dist-packages (from twint) (1.3.5)\n",
            "Collecting aiohttp_socks\n",
            "  Downloading aiohttp_socks-0.7.1-py3-none-any.whl (9.3 kB)\n",
            "Collecting schedule\n",
            "  Downloading schedule-1.1.0-py2.py3-none-any.whl (10 kB)\n",
            "Requirement already satisfied: geopy in /usr/local/lib/python3.7/dist-packages (from twint) (1.17.0)\n",
            "Collecting fake-useragent\n",
            "  Downloading fake-useragent-0.1.11.tar.gz (13 kB)\n",
            "Collecting googletransx\n",
            "  Downloading googletransx-2.4.2.tar.gz (13 kB)\n",
            "Collecting pycares>=4.0.0\n",
            "  Downloading pycares-4.1.2-cp37-cp37m-manylinux_2_5_x86_64.manylinux1_x86_64.manylinux_2_12_x86_64.manylinux2010_x86_64.whl (291 kB)\n",
            "\u001b[K     |████████████████████████████████| 291 kB 47.7 MB/s \n",
            "\u001b[?25hRequirement already satisfied: cffi>=1.5.0 in /usr/local/lib/python3.7/dist-packages (from pycares>=4.0.0->aiodns->twint) (1.15.0)\n",
            "Requirement already satisfied: pycparser in /usr/local/lib/python3.7/dist-packages (from cffi>=1.5.0->pycares>=4.0.0->aiodns->twint) (2.21)\n",
            "Collecting yarl<2.0,>=1.0\n",
            "  Downloading yarl-1.7.2-cp37-cp37m-manylinux_2_5_x86_64.manylinux1_x86_64.manylinux_2_12_x86_64.manylinux2010_x86_64.whl (271 kB)\n",
            "\u001b[K     |████████████████████████████████| 271 kB 53.2 MB/s \n",
            "\u001b[?25hRequirement already satisfied: typing-extensions>=3.7.4 in /usr/local/lib/python3.7/dist-packages (from aiohttp->twint) (3.10.0.2)\n",
            "Collecting async-timeout<5.0,>=4.0.0a3\n",
            "  Downloading async_timeout-4.0.2-py3-none-any.whl (5.8 kB)\n",
            "Collecting aiosignal>=1.1.2\n",
            "  Downloading aiosignal-1.2.0-py3-none-any.whl (8.2 kB)\n",
            "Requirement already satisfied: attrs>=17.3.0 in /usr/local/lib/python3.7/dist-packages (from aiohttp->twint) (21.4.0)\n",
            "Collecting frozenlist>=1.1.1\n",
            "  Downloading frozenlist-1.3.0-cp37-cp37m-manylinux_2_5_x86_64.manylinux1_x86_64.manylinux_2_17_x86_64.manylinux2014_x86_64.whl (144 kB)\n",
            "\u001b[K     |████████████████████████████████| 144 kB 48.0 MB/s \n",
            "\u001b[?25hCollecting multidict<7.0,>=4.5\n",
            "  Downloading multidict-6.0.2-cp37-cp37m-manylinux_2_17_x86_64.manylinux2014_x86_64.whl (94 kB)\n",
            "\u001b[K     |████████████████████████████████| 94 kB 1.7 MB/s \n",
            "\u001b[?25hCollecting asynctest==0.13.0\n",
            "  Downloading asynctest-0.13.0-py3-none-any.whl (26 kB)\n",
            "Requirement already satisfied: charset-normalizer<3.0,>=2.0 in /usr/local/lib/python3.7/dist-packages (from aiohttp->twint) (2.0.11)\n",
            "Requirement already satisfied: idna>=2.0 in /usr/local/lib/python3.7/dist-packages (from yarl<2.0,>=1.0->aiohttp->twint) (2.10)\n",
            "Collecting python-socks[asyncio]<3.0.0,>=2.0.0\n",
            "  Downloading python_socks-2.0.3-py3-none-any.whl (49 kB)\n",
            "\u001b[K     |████████████████████████████████| 49 kB 5.5 MB/s \n",
            "\u001b[?25hCollecting elastic-transport<9,>=8\n",
            "  Downloading elastic_transport-8.0.1-py3-none-any.whl (57 kB)\n",
            "\u001b[K     |████████████████████████████████| 57 kB 5.0 MB/s \n",
            "\u001b[?25hRequirement already satisfied: certifi in /usr/local/lib/python3.7/dist-packages (from elastic-transport<9,>=8->elasticsearch->twint) (2021.10.8)\n",
            "Collecting urllib3<2,>=1.26.2\n",
            "  Downloading urllib3-1.26.8-py2.py3-none-any.whl (138 kB)\n",
            "\u001b[K     |████████████████████████████████| 138 kB 45.3 MB/s \n",
            "\u001b[?25hRequirement already satisfied: geographiclib<2,>=1.49 in /usr/local/lib/python3.7/dist-packages (from geopy->twint) (1.52)\n",
            "Requirement already satisfied: requests in /usr/local/lib/python3.7/dist-packages (from googletransx->twint) (2.23.0)\n",
            "Requirement already satisfied: numpy>=1.17.3 in /usr/local/lib/python3.7/dist-packages (from pandas->twint) (1.21.5)\n",
            "Requirement already satisfied: python-dateutil>=2.7.3 in /usr/local/lib/python3.7/dist-packages (from pandas->twint) (2.8.2)\n",
            "Requirement already satisfied: pytz>=2017.3 in /usr/local/lib/python3.7/dist-packages (from pandas->twint) (2018.9)\n",
            "Requirement already satisfied: six>=1.5 in /usr/local/lib/python3.7/dist-packages (from python-dateutil>=2.7.3->pandas->twint) (1.15.0)\n",
            "Requirement already satisfied: chardet<4,>=3.0.2 in /usr/local/lib/python3.7/dist-packages (from requests->googletransx->twint) (3.0.4)\n",
            "Collecting requests\n",
            "  Downloading requests-2.27.1-py2.py3-none-any.whl (63 kB)\n",
            "\u001b[K     |████████████████████████████████| 63 kB 1.6 MB/s \n",
            "\u001b[?25hBuilding wheels for collected packages: twint, fake-useragent, googletransx\n",
            "  Building wheel for twint (setup.py) ... \u001b[?25l\u001b[?25hdone\n",
            "  Created wheel for twint: filename=twint-2.1.21-py3-none-any.whl size=38871 sha256=b0d868e656d5e75275b8becacdef06eebe2a70046294c98fb7a71470822fcece\n",
            "  Stored in directory: /tmp/pip-ephem-wheel-cache-thufpgx4/wheels/8d/dc/9f/74b4483d5f997036f04aec7f42bd4b3c80f04264920c368068\n",
            "  Building wheel for fake-useragent (setup.py) ... \u001b[?25l\u001b[?25hdone\n",
            "  Created wheel for fake-useragent: filename=fake_useragent-0.1.11-py3-none-any.whl size=13502 sha256=709b6f4aba8cecb5a128fb103929526dd9043d03c05526e874218d9fac3e2492\n",
            "  Stored in directory: /root/.cache/pip/wheels/ed/f7/62/50ab6c9a0b5567267ab76a9daa9d06315704209b2c5d032031\n",
            "  Building wheel for googletransx (setup.py) ... \u001b[?25l\u001b[?25hdone\n",
            "  Created wheel for googletransx: filename=googletransx-2.4.2-py3-none-any.whl size=15968 sha256=9293cdc6e98748170a5ee58b57e437634ced4e03774a73e8ff4a26b6950e0051\n",
            "  Stored in directory: /root/.cache/pip/wheels/66/d5/b1/31104b338f7fd45aa8f7d22587765db06773b13df48a89735f\n",
            "Successfully built twint fake-useragent googletransx\n",
            "Installing collected packages: multidict, frozenlist, yarl, urllib3, python-socks, asynctest, async-timeout, aiosignal, requests, pycares, elastic-transport, aiohttp, schedule, googletransx, fake-useragent, elasticsearch, dataclasses, cchardet, aiohttp-socks, aiodns, twint\n",
            "  Attempting uninstall: urllib3\n",
            "    Found existing installation: urllib3 1.24.3\n",
            "    Uninstalling urllib3-1.24.3:\n",
            "      Successfully uninstalled urllib3-1.24.3\n",
            "  Attempting uninstall: requests\n",
            "    Found existing installation: requests 2.23.0\n",
            "    Uninstalling requests-2.23.0:\n",
            "      Successfully uninstalled requests-2.23.0\n",
            "\u001b[31mERROR: pip's dependency resolver does not currently take into account all the packages that are installed. This behaviour is the source of the following dependency conflicts.\n",
            "google-colab 1.0.0 requires requests~=2.23.0, but you have requests 2.27.1 which is incompatible.\n",
            "datascience 0.10.6 requires folium==0.2.1, but you have folium 0.8.3 which is incompatible.\u001b[0m\n",
            "Successfully installed aiodns-3.0.0 aiohttp-3.8.1 aiohttp-socks-0.7.1 aiosignal-1.2.0 async-timeout-4.0.2 asynctest-0.13.0 cchardet-2.1.7 dataclasses-0.6 elastic-transport-8.0.1 elasticsearch-8.0.0 fake-useragent-0.1.11 frozenlist-1.3.0 googletransx-2.4.2 multidict-6.0.2 pycares-4.1.2 python-socks-2.0.3 requests-2.27.1 schedule-1.1.0 twint-2.1.21 urllib3-1.26.8 yarl-1.7.2\n"
          ]
        },
        {
          "output_type": "display_data",
          "data": {
            "application/vnd.colab-display-data+json": {
              "pip_warning": {
                "packages": [
                  "dataclasses"
                ]
              }
            }
          },
          "metadata": {}
        }
      ],
      "source": [
        "!pip3 install --upgrade git+https://github.com/twintproject/twint.git@origin/master#egg=twint"
      ]
    },
    {
      "cell_type": "code",
      "execution_count": null,
      "metadata": {
        "colab": {
          "base_uri": "https://localhost:8080/"
        },
        "id": "UMkK3awCva0w",
        "outputId": "8f07b3a1-9764-403a-b44b-a3b14998339f"
      },
      "outputs": [
        {
          "output_type": "stream",
          "name": "stdout",
          "text": [
            "Requirement already satisfied: nest_asyncio in /usr/local/lib/python3.7/dist-packages (1.5.4)\n"
          ]
        }
      ],
      "source": [
        "!pip install nest_asyncio"
      ]
    },
    {
      "cell_type": "code",
      "execution_count": null,
      "metadata": {
        "id": "vWd_V3kkva0y"
      },
      "outputs": [],
      "source": [
        "import nest_asyncio\n",
        "nest_asyncio.apply()"
      ]
    },
    {
      "cell_type": "code",
      "execution_count": null,
      "metadata": {
        "id": "m5JJlPGQva00"
      },
      "outputs": [],
      "source": [
        "import twint"
      ]
    },
    {
      "cell_type": "code",
      "execution_count": null,
      "metadata": {
        "id": "DZHIWHW9va01"
      },
      "outputs": [],
      "source": [
        "t = twint.Config()"
      ]
    },
    {
      "cell_type": "code",
      "execution_count": null,
      "metadata": {
        "colab": {
          "base_uri": "https://localhost:8080/"
        },
        "id": "eSn7nT-vva02",
        "outputId": "e8c82148-7cfe-4025-d915-ad68d6bde769"
      },
      "outputs": [
        {
          "output_type": "stream",
          "name": "stdout",
          "text": [
            "1495281742839644160 2022-02-20 06:18:43 +0000 <NutanTiwari27> @isindianpolitic UP please Vote for development   UP Votes BJP\n",
            "1495281742080770049 2022-02-20 06:18:42 +0000 <vw_twitt> So you guys started agreeing now?? @BJP4India what @INCIndia did on last 75 years !! @RahulGandhi\n",
            "1495281736699179009 2022-02-20 06:18:41 +0000 <RajuKushwahaBJP> उत्तर प्रदेश विधान सभा चुनाव का  आज तीसरे चरण का मतदान है । सभी मतदाताओं से अनुरोध है कि लोकतंत्र के इस पावन पर्व में अपना मतदान अवश्य करें और उत्तर प्रदेश में डबल इंजन की सुशासन और विकास की सरकार बनाने में अपना बहुमूल्य योगदान दें । @BJP4UP @mkrtiwari_bjp #जय_भाजपा_तय_भाजपा_2022  https://t.co/gcB4DlS0vK\n",
            "1495281736279801856 2022-02-20 06:18:41 +0000 <TimesNow> Union Minister @bpsvermabjp speaks to TIMES NOW's Mohit Bhatt; says people have faith in the BJP and are voting for the party.  He also listed out the achievements of UP govt in past 5 years.   #March10WithTimesNow #UPElections2022  https://t.co/GYPFw3eeTi\n",
            "1495281735319187457 2022-02-20 06:18:41 +0000 <GorakhpurPost> BJP के तमाम बड़े नेताओं का पूर्वांचल दौरा होगा! #AmitShah  https://t.co/n3PRck29Ly\n",
            "1495281733067247622 2022-02-20 06:18:40 +0000 <TBharat1> @ANINewsUP Gundon ko kon vote dega ,koi nahi,suraksh jarurui hai jaan hai to jahan hai,vote for BJP.\n",
            "1495281730755784704 2022-02-20 06:18:40 +0000 <72_grimreaper> @IYC आएगी तो BJP ही 😂😂\n",
            "1495281729774387201 2022-02-20 06:18:40 +0000 <BJP4PBH> आपका वोट तय करेगा  पेंशन पर रोक लगाने वाली सरकार या 12 हजार रूपये सालाना पेंशन देने वाली भाजपा सरकार  कमल का बटन दबाएं, भाजपा को जिताएं।   UP Votes BJP    https://t.co/8YkWbdMFyh\n",
            "1495281722170118150 2022-02-20 06:18:38 +0000 <BhasNisa> After 3rd phase of up it is clear that there is no wave,neither in favour of govt. nor against it.Bjp has whisker of advantage.election remains alive till 7th phase.\n",
            "1495281711915343872 2022-02-20 06:18:35 +0000 <Harsh24R> पिक्चर अभी बाकी है...१० मार्च को होली है... UP Votes BJP\n",
            "1495281710740557824 2022-02-20 06:18:35 +0000 <Suburajput> @ANINewsUP और ये मेरा वोट BJP को  #YogiWillBeBack\n",
            "1495281710363471876 2022-02-20 06:18:35 +0000 <ArpitSh97337964> @Yogesh4_BJP @sonamsa4 Jay Shri Ram🙏🙏\n",
            "1495281707356135426 2022-02-20 06:18:34 +0000 <Workholic28> @nareshbareth First let Gandhi Parivar says it... Just wishful thoughts of a few Chatukars won't help...  @INCIndia  @BJP4India\n",
            "1495281706311450624 2022-02-20 06:18:34 +0000 <TiwariHG> UP for BJP , Vote for BJP, Rashtra hit ke liye, vikash ke liye .. vote for BJP\n",
            "1495281702536503299 2022-02-20 06:18:33 +0000 <avinashdesai562> #ShriGuruGranthSahibThere is only BJP government which can develop in Punjab then people of Punjab should vote for BJP only. #ShriGuruGranthSahib  https://t.co/XCgQewrcBs\n",
            "1495281693086736386 2022-02-20 06:18:31 +0000 <JeffryJonThomas> @dhume @tavleen_singh Dhumya..  @BJP4India is a political party which has grown from mere 2 seats in 1980's to 303..  They know exactly what is a \" Stepping Stone \"  Now - due to various activities of stepped stones - ur paytmasters🤡 r defeated at elections..  U want to prevent the defeat We know You\n",
            "1495281690079416321 2022-02-20 06:18:30 +0000 <JavedSamad7> @BJP4India पेट्रोल के दाम अभी स्थिर हैं, लेकिन कब तक रहेंगे पता नहीं.  खैर... आप वोट करें 👆 No vote to BJP\n",
            "1495281689714917377 2022-02-20 06:18:30 +0000 <jainsirji> 🚸UP Votes BJP  🚸Vote For BJP  🚸Punjab Votes NDA  https://t.co/OkBeSoZlvA\n",
            "1495281681439215618 2022-02-20 06:18:28 +0000 <rajesh36model> TRENDING NOW .  UP Votes BJP  Punjab Votes NDA  RETWEET FOT TOP THIS TREND\n",
            "1495281678100557824 2022-02-20 06:18:27 +0000 <ps_krunal> Dear Sikh brothers,  •Congress did 1984.   •AAP promotes radicals responsible for 1984.  •BJP is that who held your hand even in Afghanistan and Pakistan.  Vote Wisely 🙏#ShriGuruGranthSahib\n"
          ]
        }
      ],
      "source": [
        "t.Search = \"BJP\"\n",
        "t.Store_object = True\n",
        "t.Limit = 10\n",
        "t.Store_csv = True\n",
        "t.Output = 'tweet.csv'\n",
        "twint.run.Search(t)\n",
        "\n"
      ]
    }
  ],
  "metadata": {
    "kernelspec": {
      "display_name": "Python 3",
      "language": "python",
      "name": "python3"
    },
    "language_info": {
      "codemirror_mode": {
        "name": "ipython",
        "version": 3
      },
      "file_extension": ".py",
      "mimetype": "text/x-python",
      "name": "python",
      "nbconvert_exporter": "python",
      "pygments_lexer": "ipython3",
      "version": "3.8.3"
    },
    "colab": {
      "provenance": []
    }
  },
  "nbformat": 4,
  "nbformat_minor": 0
}