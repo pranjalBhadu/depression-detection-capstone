{
  "nbformat": 4,
  "nbformat_minor": 0,
  "metadata": {
    "colab": {
      "provenance": []
    },
    "kernelspec": {
      "name": "python3",
      "display_name": "Python 3"
    },
    "language_info": {
      "name": "python"
    },
    "accelerator": "GPU",
    "gpuClass": "standard"
  },
  "cells": [
    {
      "cell_type": "code",
      "execution_count": null,
      "metadata": {
        "colab": {
          "base_uri": "https://localhost:8080/"
        },
        "id": "1yDbZWyoYfl7",
        "outputId": "914d2ada-9ef3-4fe4-a79a-f102799706d2"
      },
      "outputs": [
        {
          "output_type": "stream",
          "name": "stdout",
          "text": [
            "Looking in indexes: https://pypi.org/simple, https://us-python.pkg.dev/colab-wheels/public/simple/\n",
            "Requirement already satisfied: numpy in /usr/local/lib/python3.7/dist-packages (1.21.6)\n",
            "Requirement already satisfied: matplotlib in /usr/local/lib/python3.7/dist-packages (3.2.2)\n",
            "Requirement already satisfied: scipy in /usr/local/lib/python3.7/dist-packages (1.7.3)\n",
            "Collecting sklearn\n",
            "  Downloading sklearn-0.0.post1.tar.gz (3.6 kB)\n",
            "Collecting hmmlearn\n",
            "  Downloading hmmlearn-0.2.8-cp37-cp37m-manylinux_2_5_x86_64.manylinux1_x86_64.whl (217 kB)\n",
            "\u001b[K     |████████████████████████████████| 217 kB 14.7 MB/s \n",
            "\u001b[?25hCollecting simplejson\n",
            "  Downloading simplejson-3.18.0-cp37-cp37m-manylinux_2_5_x86_64.manylinux1_x86_64.manylinux_2_12_x86_64.manylinux2010_x86_64.whl (130 kB)\n",
            "\u001b[K     |████████████████████████████████| 130 kB 59.6 MB/s \n",
            "\u001b[?25hCollecting eyed3\n",
            "  Downloading eyed3-0.9.7-py3-none-any.whl (246 kB)\n",
            "\u001b[K     |████████████████████████████████| 246 kB 62.4 MB/s \n",
            "\u001b[?25hCollecting pydub\n",
            "  Downloading pydub-0.25.1-py2.py3-none-any.whl (32 kB)\n",
            "Requirement already satisfied: cycler>=0.10 in /usr/local/lib/python3.7/dist-packages (from matplotlib) (0.11.0)\n",
            "Requirement already satisfied: python-dateutil>=2.1 in /usr/local/lib/python3.7/dist-packages (from matplotlib) (2.8.2)\n",
            "Requirement already satisfied: pyparsing!=2.0.4,!=2.1.2,!=2.1.6,>=2.0.1 in /usr/local/lib/python3.7/dist-packages (from matplotlib) (3.0.9)\n",
            "Requirement already satisfied: kiwisolver>=1.0.1 in /usr/local/lib/python3.7/dist-packages (from matplotlib) (1.4.4)\n",
            "Requirement already satisfied: typing-extensions in /usr/local/lib/python3.7/dist-packages (from kiwisolver>=1.0.1->matplotlib) (4.1.1)\n",
            "Requirement already satisfied: six>=1.5 in /usr/local/lib/python3.7/dist-packages (from python-dateutil>=2.1->matplotlib) (1.15.0)\n",
            "Requirement already satisfied: scikit-learn>=0.16 in /usr/local/lib/python3.7/dist-packages (from hmmlearn) (1.0.2)\n",
            "Requirement already satisfied: threadpoolctl>=2.0.0 in /usr/local/lib/python3.7/dist-packages (from scikit-learn>=0.16->hmmlearn) (3.1.0)\n",
            "Requirement already satisfied: joblib>=0.11 in /usr/local/lib/python3.7/dist-packages (from scikit-learn>=0.16->hmmlearn) (1.2.0)\n",
            "Collecting coverage[toml]<6.0.0,>=5.3.1\n",
            "  Downloading coverage-5.5-cp37-cp37m-manylinux2010_x86_64.whl (242 kB)\n",
            "\u001b[K     |████████████████████████████████| 242 kB 64.0 MB/s \n",
            "\u001b[?25hCollecting filetype<2.0.0,>=1.0.7\n",
            "  Downloading filetype-1.2.0-py2.py3-none-any.whl (19 kB)\n",
            "Collecting deprecation<3.0.0,>=2.1.0\n",
            "  Downloading deprecation-2.1.0-py2.py3-none-any.whl (11 kB)\n",
            "Requirement already satisfied: toml in /usr/local/lib/python3.7/dist-packages (from coverage[toml]<6.0.0,>=5.3.1->eyed3) (0.10.2)\n",
            "Requirement already satisfied: packaging in /usr/local/lib/python3.7/dist-packages (from deprecation<3.0.0,>=2.1.0->eyed3) (21.3)\n",
            "Building wheels for collected packages: sklearn\n",
            "  Building wheel for sklearn (setup.py) ... \u001b[?25l\u001b[?25hdone\n",
            "  Created wheel for sklearn: filename=sklearn-0.0.post1-py3-none-any.whl size=2344 sha256=400b2a55cb33236d6224113aeb3df0efc492619bcd07840d6b93b51d1e824f8d\n",
            "  Stored in directory: /root/.cache/pip/wheels/42/56/cc/4a8bf86613aafd5b7f1b310477667c1fca5c51c3ae4124a003\n",
            "Successfully built sklearn\n",
            "Installing collected packages: coverage, filetype, deprecation, sklearn, simplejson, pydub, hmmlearn, eyed3\n",
            "Successfully installed coverage-5.5 deprecation-2.1.0 eyed3-0.9.7 filetype-1.2.0 hmmlearn-0.2.8 pydub-0.25.1 simplejson-3.18.0 sklearn-0.0.post1\n",
            "Looking in indexes: https://pypi.org/simple, https://us-python.pkg.dev/colab-wheels/public/simple/\n",
            "Collecting pyAudioAnalysis\n",
            "  Downloading pyAudioAnalysis-0.3.14.tar.gz (41.3 MB)\n",
            "\u001b[K     |████████████████████████████████| 41.3 MB 1.9 MB/s \n",
            "\u001b[?25hBuilding wheels for collected packages: pyAudioAnalysis\n",
            "  Building wheel for pyAudioAnalysis (setup.py) ... \u001b[?25l\u001b[?25hdone\n",
            "  Created wheel for pyAudioAnalysis: filename=pyAudioAnalysis-0.3.14-py3-none-any.whl size=41264387 sha256=e470b0ff87a5bbec2f5817fbad18dfa81dd0d09b06440f43008bd08ff1c0b17a\n",
            "  Stored in directory: /root/.cache/pip/wheels/85/b4/52/c6a5bdc8517a9bc4cc95aca9839f118d25139aee7881a8d210\n",
            "Successfully built pyAudioAnalysis\n",
            "Installing collected packages: pyAudioAnalysis\n",
            "Successfully installed pyAudioAnalysis-0.3.14\n",
            "Looking in indexes: https://pypi.org/simple, https://us-python.pkg.dev/colab-wheels/public/simple/\n",
            "\u001b[31mERROR: Could not find a version that satisfies the requirement plot_metrics (from versions: none)\u001b[0m\n",
            "\u001b[31mERROR: No matching distribution found for plot_metrics\u001b[0m\n"
          ]
        }
      ],
      "source": [
        "!pip install numpy matplotlib scipy sklearn hmmlearn simplejson eyed3 pydub\n",
        "!pip install pyAudioAnalysis\n",
        "!pip install plot_metrics"
      ]
    },
    {
      "cell_type": "code",
      "source": [
        "!pip install boto"
      ],
      "metadata": {
        "colab": {
          "base_uri": "https://localhost:8080/"
        },
        "id": "ph0q0bkTY_9h",
        "outputId": "2a950b88-ff5e-4edd-c585-7df9f6cbfe3b"
      },
      "execution_count": null,
      "outputs": [
        {
          "output_type": "stream",
          "name": "stdout",
          "text": [
            "Looking in indexes: https://pypi.org/simple, https://us-python.pkg.dev/colab-wheels/public/simple/\n",
            "Collecting boto\n",
            "  Downloading boto-2.49.0-py2.py3-none-any.whl (1.4 MB)\n",
            "\u001b[K     |████████████████████████████████| 1.4 MB 10.0 MB/s \n",
            "\u001b[?25hInstalling collected packages: boto\n",
            "Successfully installed boto-2.49.0\n"
          ]
        }
      ]
    },
    {
      "cell_type": "code",
      "source": [
        "import fnmatch\n",
        "import os\n",
        "import zipfile\n",
        "\n",
        "from pyAudioAnalysis import audioBasicIO \n",
        "from pyAudioAnalysis import audioSegmentation as aS\n",
        "import scipy.io.wavfile as wavfile\n",
        "import wave\n",
        "\n",
        "import numpy as np\n",
        "from numpy.lib import stride_tricks\n",
        "import os\n",
        "from PIL import Image\n",
        "import scipy.io.wavfile as wav\n",
        "\n",
        "import pandas as pd\n",
        "\n",
        "import randomS\n",
        "import boto\n",
        "\n",
        "from sklearn.metrics import confusion_matrix, roc_curve, auc\n",
        "from keras.models import Sequential\n",
        "from keras.layers import Dense, Dropout, Activation, Flatten\n",
        "from keras.layers import Conv2D, MaxPooling2D\n",
        "from keras.utils import np_utils\n",
        "from keras import backend as K"
      ],
      "metadata": {
        "id": "3nQozzrTZKKQ"
      },
      "execution_count": null,
      "outputs": []
    },
    {
      "cell_type": "code",
      "source": [
        "from google.colab import drive\n",
        "drive.mount('/content/drive')"
      ],
      "metadata": {
        "colab": {
          "base_uri": "https://localhost:8080/"
        },
        "id": "vtSHMeF1ZNF6",
        "outputId": "804658a9-1428-4aed-c0db-50e6a8565c40"
      },
      "execution_count": null,
      "outputs": [
        {
          "output_type": "stream",
          "name": "stdout",
          "text": [
            "Mounted at /content/drive\n"
          ]
        }
      ]
    },
    {
      "cell_type": "code",
      "source": [
        "def remove_silence(filename, out_dir, smoothing=1.0, weight=0.3, plot=False):\n",
        "    \"\"\"\n",
        "    A function that implements pyAudioAnalysis' silence extraction module\n",
        "    and creates wav files of the participant specific portions of audio. The\n",
        "    smoothing and weight parameters were tuned for the AVEC 2016 dataset.\n",
        "\n",
        "    Parameters\n",
        "    ----------\n",
        "    filename : filepath\n",
        "        path to the input wav file\n",
        "    out_dir : filepath\n",
        "        path to the desired directory (where a participant folder will\n",
        "        be created containing a 'PXXX_no_silence.wav' file)\n",
        "    smoothing : float\n",
        "        tunable parameter to compensate for sparseness of recordings\n",
        "    weight : float\n",
        "        probability threshold for silence removal used in SVM\n",
        "    plot : bool\n",
        "        plots SVM probabilities of silence (used in tuning)\n",
        "\n",
        "    Returns\n",
        "    -------\n",
        "    A folder for each participant containing a single wav file\n",
        "    (named 'PXXX_no_silence.wav') with the vast majority of silence\n",
        "    and virtual interviewer speech removed. Feature extraction is\n",
        "    performed on these segmented wav files.\n",
        "    \"\"\"\n",
        "    partic_id = 'P' + filename.split('/')[-1].split('_')[0]  # PXXX\n",
        "    if is_segmentable(partic_id):\n",
        "        # create participant directory for segmented wav files\n",
        "        participant_dir = os.path.join(out_dir, partic_id)\n",
        "        if not os.path.exists(participant_dir):\n",
        "            os.makedirs(participant_dir)\n",
        "\n",
        "        os.chdir(participant_dir)\n",
        "\n",
        "        [Fs, x] = audioBasicIO.read_audio_file(filename)\n",
        "        segments = aS.silence_removal(x, Fs, 0.020, 0.020,\n",
        "                                     smooth_window=smoothing,\n",
        "                                     weight=weight,\n",
        "                                     plot=plot)\n",
        "\n",
        "        for s in segments:\n",
        "            seg_name = \"{:s}_{:.2f}-{:.2f}.wav\".format(partic_id, s[0], s[1])\n",
        "            wavfile.write(seg_name, Fs, x[int(Fs * s[0]):int(Fs * s[1])])\n",
        "\n",
        "        # concatenate segmented wave files within participant directory\n",
        "        concatenate_segments(participant_dir, partic_id)\n",
        "\n",
        "\n",
        "def is_segmentable(partic_id):\n",
        "    \"\"\"\n",
        "    A function that returns True if the participant's interview clip is not\n",
        "    in the manually identified set of troubled clips. The clips below were\n",
        "    not segmentable do to excessive static, proximity to the virtual\n",
        "    interviewer, volume levels, etc.\n",
        "    \"\"\"\n",
        "    troubled = set(['P300', 'P305', 'P306', 'P308', 'P315', 'P316', 'P343',\n",
        "                    'P354', 'P362', 'P375', 'P378', 'P381', 'P382', 'P385',\n",
        "                    'P387', 'P388', 'P390', 'P392', 'P393', 'P395', 'P408',\n",
        "                    'P413', 'P421', 'P438', 'P473', 'P476', 'P479', 'P490',\n",
        "                    'P492'])\n",
        "    return partic_id not in troubled\n",
        "\n",
        "\n",
        "def concatenate_segments(participant_dir, partic_id, remove_segment=True):\n",
        "    \"\"\"\n",
        "    A function that concatenates all the wave files in a participants\n",
        "    directory in to single wav file (with silence and other speakers removed)\n",
        "    and writes in to the participant's directory, then removes the individual\n",
        "    segments (when remove_segment=True).\n",
        "    \"\"\"\n",
        "    infiles = os.listdir(participant_dir)  # list of wav files in directory\n",
        "    outfile = '{}_no_silence.wav'.format(partic_id)\n",
        "\n",
        "    data = []\n",
        "    for infile in infiles:\n",
        "        w = wave.open(infile, 'rb')\n",
        "        data.append([w.getparams(), w.readframes(w.getnframes())])\n",
        "        w.close()\n",
        "        if remove_segment:\n",
        "            os.remove(infile)\n",
        "\n",
        "    output = wave.open(outfile, 'wb')\n",
        "    # details of the files must be the same (channel, frame rates, etc.)\n",
        "    output.setparams(data[0][0])\n",
        "\n",
        "    # write each segment to output\n",
        "    for idx in range(len(data)):\n",
        "        output.writeframes(data[idx][1])\n",
        "    output.close()"
      ],
      "metadata": {
        "id": "tm6pyrU-DqkQ"
      },
      "execution_count": null,
      "outputs": []
    },
    {
      "cell_type": "code",
      "source": [
        "dir_name = \"/content/drive/MyDrive/DAIC-WOZ/depression-detection/data/raw/audio\"\n",
        "out_dir = \"/content/drive/MyDrive/DAIC-WOZ/depression-detection/cleaned_files\"\n",
        "\n",
        "for file in os.listdir(dir_name):\n",
        "  if file.endswith('.wav'):\n",
        "    filename = os.path.join(dir_name, file)\n",
        "    remove_silence(filename, out_dir)"
      ],
      "metadata": {
        "colab": {
          "base_uri": "https://localhost:8080/",
          "height": 417
        },
        "id": "1YkBRMGv9BXn",
        "outputId": "e7a67d9b-67f0-4fa8-8eed-8daf43fbb4f2"
      },
      "execution_count": null,
      "outputs": [
        {
          "output_type": "stream",
          "name": "stderr",
          "text": [
            "/usr/local/lib/python3.7/dist-packages/pyAudioAnalysis/audioBasicIO.py:99: WavFileWarning: Reached EOF prematurely; finished at 26364844 bytes, expected 210918444 bytes from header.\n",
            "  sampling_rate, signal = wavfile.read(input_file) # from scipy.io\n"
          ]
        },
        {
          "output_type": "error",
          "ename": "Error",
          "evalue": "ignored",
          "traceback": [
            "\u001b[0;31m---------------------------------------------------------------------------\u001b[0m",
            "\u001b[0;31mError\u001b[0m                                     Traceback (most recent call last)",
            "\u001b[0;32m<ipython-input-6-b6e611643e4b>\u001b[0m in \u001b[0;36m<module>\u001b[0;34m\u001b[0m\n\u001b[1;32m      5\u001b[0m   \u001b[0;32mif\u001b[0m \u001b[0mfile\u001b[0m\u001b[0;34m.\u001b[0m\u001b[0mendswith\u001b[0m\u001b[0;34m(\u001b[0m\u001b[0;34m'.wav'\u001b[0m\u001b[0;34m)\u001b[0m\u001b[0;34m:\u001b[0m\u001b[0;34m\u001b[0m\u001b[0;34m\u001b[0m\u001b[0m\n\u001b[1;32m      6\u001b[0m     \u001b[0mfilename\u001b[0m \u001b[0;34m=\u001b[0m \u001b[0mos\u001b[0m\u001b[0;34m.\u001b[0m\u001b[0mpath\u001b[0m\u001b[0;34m.\u001b[0m\u001b[0mjoin\u001b[0m\u001b[0;34m(\u001b[0m\u001b[0mdir_name\u001b[0m\u001b[0;34m,\u001b[0m \u001b[0mfile\u001b[0m\u001b[0;34m)\u001b[0m\u001b[0;34m\u001b[0m\u001b[0;34m\u001b[0m\u001b[0m\n\u001b[0;32m----> 7\u001b[0;31m     \u001b[0mremove_silence\u001b[0m\u001b[0;34m(\u001b[0m\u001b[0mfilename\u001b[0m\u001b[0;34m,\u001b[0m \u001b[0mout_dir\u001b[0m\u001b[0;34m)\u001b[0m\u001b[0;34m\u001b[0m\u001b[0;34m\u001b[0m\u001b[0m\n\u001b[0m",
            "\u001b[0;32m<ipython-input-5-63201222d040>\u001b[0m in \u001b[0;36mremove_silence\u001b[0;34m(filename, out_dir, smoothing, weight, plot)\u001b[0m\n\u001b[1;32m     46\u001b[0m \u001b[0;34m\u001b[0m\u001b[0m\n\u001b[1;32m     47\u001b[0m         \u001b[0;31m# concatenate segmented wave files within participant directory\u001b[0m\u001b[0;34m\u001b[0m\u001b[0;34m\u001b[0m\u001b[0;34m\u001b[0m\u001b[0m\n\u001b[0;32m---> 48\u001b[0;31m         \u001b[0mconcatenate_segments\u001b[0m\u001b[0;34m(\u001b[0m\u001b[0mparticipant_dir\u001b[0m\u001b[0;34m,\u001b[0m \u001b[0mpartic_id\u001b[0m\u001b[0;34m)\u001b[0m\u001b[0;34m\u001b[0m\u001b[0;34m\u001b[0m\u001b[0m\n\u001b[0m\u001b[1;32m     49\u001b[0m \u001b[0;34m\u001b[0m\u001b[0m\n\u001b[1;32m     50\u001b[0m \u001b[0;34m\u001b[0m\u001b[0m\n",
            "\u001b[0;32m<ipython-input-5-63201222d040>\u001b[0m in \u001b[0;36mconcatenate_segments\u001b[0;34m(participant_dir, partic_id, remove_segment)\u001b[0m\n\u001b[1;32m     76\u001b[0m     \u001b[0mdata\u001b[0m \u001b[0;34m=\u001b[0m \u001b[0;34m[\u001b[0m\u001b[0;34m]\u001b[0m\u001b[0;34m\u001b[0m\u001b[0;34m\u001b[0m\u001b[0m\n\u001b[1;32m     77\u001b[0m     \u001b[0;32mfor\u001b[0m \u001b[0minfile\u001b[0m \u001b[0;32min\u001b[0m \u001b[0minfiles\u001b[0m\u001b[0;34m:\u001b[0m\u001b[0;34m\u001b[0m\u001b[0;34m\u001b[0m\u001b[0m\n\u001b[0;32m---> 78\u001b[0;31m         \u001b[0mw\u001b[0m \u001b[0;34m=\u001b[0m \u001b[0mwave\u001b[0m\u001b[0;34m.\u001b[0m\u001b[0mopen\u001b[0m\u001b[0;34m(\u001b[0m\u001b[0minfile\u001b[0m\u001b[0;34m,\u001b[0m \u001b[0;34m'rb'\u001b[0m\u001b[0;34m)\u001b[0m\u001b[0;34m\u001b[0m\u001b[0;34m\u001b[0m\u001b[0m\n\u001b[0m\u001b[1;32m     79\u001b[0m         \u001b[0mdata\u001b[0m\u001b[0;34m.\u001b[0m\u001b[0mappend\u001b[0m\u001b[0;34m(\u001b[0m\u001b[0;34m[\u001b[0m\u001b[0mw\u001b[0m\u001b[0;34m.\u001b[0m\u001b[0mgetparams\u001b[0m\u001b[0;34m(\u001b[0m\u001b[0;34m)\u001b[0m\u001b[0;34m,\u001b[0m \u001b[0mw\u001b[0m\u001b[0;34m.\u001b[0m\u001b[0mreadframes\u001b[0m\u001b[0;34m(\u001b[0m\u001b[0mw\u001b[0m\u001b[0;34m.\u001b[0m\u001b[0mgetnframes\u001b[0m\u001b[0;34m(\u001b[0m\u001b[0;34m)\u001b[0m\u001b[0;34m)\u001b[0m\u001b[0;34m]\u001b[0m\u001b[0;34m)\u001b[0m\u001b[0;34m\u001b[0m\u001b[0;34m\u001b[0m\u001b[0m\n\u001b[1;32m     80\u001b[0m         \u001b[0mw\u001b[0m\u001b[0;34m.\u001b[0m\u001b[0mclose\u001b[0m\u001b[0;34m(\u001b[0m\u001b[0;34m)\u001b[0m\u001b[0;34m\u001b[0m\u001b[0;34m\u001b[0m\u001b[0m\n",
            "\u001b[0;32m/usr/lib/python3.7/wave.py\u001b[0m in \u001b[0;36mopen\u001b[0;34m(f, mode)\u001b[0m\n\u001b[1;32m    508\u001b[0m             \u001b[0mmode\u001b[0m \u001b[0;34m=\u001b[0m \u001b[0;34m'rb'\u001b[0m\u001b[0;34m\u001b[0m\u001b[0;34m\u001b[0m\u001b[0m\n\u001b[1;32m    509\u001b[0m     \u001b[0;32mif\u001b[0m \u001b[0mmode\u001b[0m \u001b[0;32min\u001b[0m \u001b[0;34m(\u001b[0m\u001b[0;34m'r'\u001b[0m\u001b[0;34m,\u001b[0m \u001b[0;34m'rb'\u001b[0m\u001b[0;34m)\u001b[0m\u001b[0;34m:\u001b[0m\u001b[0;34m\u001b[0m\u001b[0;34m\u001b[0m\u001b[0m\n\u001b[0;32m--> 510\u001b[0;31m         \u001b[0;32mreturn\u001b[0m \u001b[0mWave_read\u001b[0m\u001b[0;34m(\u001b[0m\u001b[0mf\u001b[0m\u001b[0;34m)\u001b[0m\u001b[0;34m\u001b[0m\u001b[0;34m\u001b[0m\u001b[0m\n\u001b[0m\u001b[1;32m    511\u001b[0m     \u001b[0;32melif\u001b[0m \u001b[0mmode\u001b[0m \u001b[0;32min\u001b[0m \u001b[0;34m(\u001b[0m\u001b[0;34m'w'\u001b[0m\u001b[0;34m,\u001b[0m \u001b[0;34m'wb'\u001b[0m\u001b[0;34m)\u001b[0m\u001b[0;34m:\u001b[0m\u001b[0;34m\u001b[0m\u001b[0;34m\u001b[0m\u001b[0m\n\u001b[1;32m    512\u001b[0m         \u001b[0;32mreturn\u001b[0m \u001b[0mWave_write\u001b[0m\u001b[0;34m(\u001b[0m\u001b[0mf\u001b[0m\u001b[0;34m)\u001b[0m\u001b[0;34m\u001b[0m\u001b[0;34m\u001b[0m\u001b[0m\n",
            "\u001b[0;32m/usr/lib/python3.7/wave.py\u001b[0m in \u001b[0;36m__init__\u001b[0;34m(self, f)\u001b[0m\n\u001b[1;32m    162\u001b[0m         \u001b[0;31m# else, assume it is an open file object already\u001b[0m\u001b[0;34m\u001b[0m\u001b[0;34m\u001b[0m\u001b[0;34m\u001b[0m\u001b[0m\n\u001b[1;32m    163\u001b[0m         \u001b[0;32mtry\u001b[0m\u001b[0;34m:\u001b[0m\u001b[0;34m\u001b[0m\u001b[0;34m\u001b[0m\u001b[0m\n\u001b[0;32m--> 164\u001b[0;31m             \u001b[0mself\u001b[0m\u001b[0;34m.\u001b[0m\u001b[0minitfp\u001b[0m\u001b[0;34m(\u001b[0m\u001b[0mf\u001b[0m\u001b[0;34m)\u001b[0m\u001b[0;34m\u001b[0m\u001b[0;34m\u001b[0m\u001b[0m\n\u001b[0m\u001b[1;32m    165\u001b[0m         \u001b[0;32mexcept\u001b[0m\u001b[0;34m:\u001b[0m\u001b[0;34m\u001b[0m\u001b[0;34m\u001b[0m\u001b[0m\n\u001b[1;32m    166\u001b[0m             \u001b[0;32mif\u001b[0m \u001b[0mself\u001b[0m\u001b[0;34m.\u001b[0m\u001b[0m_i_opened_the_file\u001b[0m\u001b[0;34m:\u001b[0m\u001b[0;34m\u001b[0m\u001b[0;34m\u001b[0m\u001b[0m\n",
            "\u001b[0;32m/usr/lib/python3.7/wave.py\u001b[0m in \u001b[0;36minitfp\u001b[0;34m(self, file)\u001b[0m\n\u001b[1;32m    129\u001b[0m         \u001b[0mself\u001b[0m\u001b[0;34m.\u001b[0m\u001b[0m_file\u001b[0m \u001b[0;34m=\u001b[0m \u001b[0mChunk\u001b[0m\u001b[0;34m(\u001b[0m\u001b[0mfile\u001b[0m\u001b[0;34m,\u001b[0m \u001b[0mbigendian\u001b[0m \u001b[0;34m=\u001b[0m \u001b[0;36m0\u001b[0m\u001b[0;34m)\u001b[0m\u001b[0;34m\u001b[0m\u001b[0;34m\u001b[0m\u001b[0m\n\u001b[1;32m    130\u001b[0m         \u001b[0;32mif\u001b[0m \u001b[0mself\u001b[0m\u001b[0;34m.\u001b[0m\u001b[0m_file\u001b[0m\u001b[0;34m.\u001b[0m\u001b[0mgetname\u001b[0m\u001b[0;34m(\u001b[0m\u001b[0;34m)\u001b[0m \u001b[0;34m!=\u001b[0m \u001b[0;34mb'RIFF'\u001b[0m\u001b[0;34m:\u001b[0m\u001b[0;34m\u001b[0m\u001b[0;34m\u001b[0m\u001b[0m\n\u001b[0;32m--> 131\u001b[0;31m             \u001b[0;32mraise\u001b[0m \u001b[0mError\u001b[0m\u001b[0;34m(\u001b[0m\u001b[0;34m'file does not start with RIFF id'\u001b[0m\u001b[0;34m)\u001b[0m\u001b[0;34m\u001b[0m\u001b[0;34m\u001b[0m\u001b[0m\n\u001b[0m\u001b[1;32m    132\u001b[0m         \u001b[0;32mif\u001b[0m \u001b[0mself\u001b[0m\u001b[0;34m.\u001b[0m\u001b[0m_file\u001b[0m\u001b[0;34m.\u001b[0m\u001b[0mread\u001b[0m\u001b[0;34m(\u001b[0m\u001b[0;36m4\u001b[0m\u001b[0;34m)\u001b[0m \u001b[0;34m!=\u001b[0m \u001b[0;34mb'WAVE'\u001b[0m\u001b[0;34m:\u001b[0m\u001b[0;34m\u001b[0m\u001b[0;34m\u001b[0m\u001b[0m\n\u001b[1;32m    133\u001b[0m             \u001b[0;32mraise\u001b[0m \u001b[0mError\u001b[0m\u001b[0;34m(\u001b[0m\u001b[0;34m'not a WAVE file'\u001b[0m\u001b[0;34m)\u001b[0m\u001b[0;34m\u001b[0m\u001b[0;34m\u001b[0m\u001b[0m\n",
            "\u001b[0;31mError\u001b[0m: file does not start with RIFF id"
          ]
        }
      ]
    },
    {
      "cell_type": "code",
      "source": [
        "def stft(sig, frameSize, overlapFac=0.5, window=np.hanning):\n",
        "    win = window(frameSize)\n",
        "    hopSize = int(frameSize - np.floor(overlapFac * frameSize))\n",
        "    # zeros at beginning (thus center of 1st window should be for sample nr. 0)\n",
        "    frame = np.floor((frameSize)/2.0)\n",
        "    frame = frame.astype(np.int64)\n",
        "    size = np.zeros(frame)\n",
        "    samples = np.append((size), sig)\n",
        "    # cols for windowing\n",
        "    cols = int(np.ceil( (len(samples) - frameSize) / float(hopSize)) + 1)\n",
        "    # zeros at end (thus samples can be fully covered by frames)\n",
        "    samples = np.append(samples, np.zeros(frameSize))\n",
        "\n",
        "    frames = stride_tricks.as_strided(samples, shape=(cols, frameSize),\n",
        "                                      strides=(samples.strides[0]*hopSize,\n",
        "                                      samples.strides[0])).copy()\n",
        "    frames *= win\n",
        "\n",
        "    return np.fft.rfft(frames)\n",
        "\n",
        "\n",
        "def logscale_spec(spec, sr=44100, factor=20.):\n",
        "    \"\"\"\n",
        "    Scale frequency axis logarithmically.\n",
        "    \"\"\"\n",
        "    timebins, freqbins = np.shape(spec)\n",
        "\n",
        "    scale = np.linspace(0, 1, freqbins) ** factor\n",
        "    scale *= (freqbins-1)/max(scale)\n",
        "    scale = np.unique(np.round(scale))\n",
        "    scale = scale.astype(int)\n",
        "\n",
        "    # create spectrogram with new freq bins\n",
        "    newspec = np.complex128(np.zeros([timebins, len(scale)]))\n",
        "    for i in range(0, len(scale)):\n",
        "        if i == len(scale)-1:\n",
        "            newspec[:, i] = np.sum(spec[:, scale[i]:], axis=1)\n",
        "        else:\n",
        "            newspec[:, i] = np.sum(spec[:, scale[i]:scale[i+1]], axis=1)\n",
        "\n",
        "    # list center freq of bins\n",
        "    allfreqs = np.abs(np.fft.fftfreq(freqbins*2, 1./sr)[:freqbins+1])\n",
        "    freqs = []\n",
        "    for i in range(0, len(scale)):\n",
        "        if i == len(scale)-1:\n",
        "            freqs += [np.mean(allfreqs[scale[i]:])]\n",
        "        else:\n",
        "            freqs += [np.mean(allfreqs[scale[i]:scale[i+1]])]\n",
        "\n",
        "    return newspec, freqs\n",
        "\n",
        "\n",
        "def stft_matrix(audiopath, binsize=2**10, png_name='tmp.png',\n",
        "                save_png=False, offset=0):\n",
        "    \"\"\"\n",
        "    A function that converts a wav file into a spectrogram represented by a \\\n",
        "    matrix where rows represent frequency bins, columns represent time, and \\\n",
        "    the values of the matrix represent the decibel intensity. A matrix of \\\n",
        "    this form can be passed as input to the CNN after undergoing normalization.\n",
        "    \"\"\"\n",
        "    samplerate, samples = wav.read(audiopath)\n",
        "    s = stft(samples, binsize)\n",
        "\n",
        "    sshow, freq = logscale_spec(s, factor=1, sr=samplerate)\n",
        "    ims = 20.*np.log10(np.abs(sshow)/10e-6)  # amplitude to decibel\n",
        "    timebins, freqbins = np.shape(ims)\n",
        "\n",
        "    ims = np.transpose(ims)\n",
        "    ims = np.flipud(ims)  \n",
        "\n",
        "    if save_png:\n",
        "        create_png(ims, png_name)\n",
        "\n",
        "    return ims\n",
        "\n",
        "\n",
        "def create_png(im_matrix, png_name):\n",
        "    \"\"\"\n",
        "    Save grayscale png of spectrogram.\n",
        "    \"\"\"\n",
        "    image = Image.fromarray(im_matrix)\n",
        "    image = image.convert('L')  # convert to grayscale\n",
        "    image.save(png_name)"
      ],
      "metadata": {
        "id": "tQwzrLSvLHQB"
      },
      "execution_count": null,
      "outputs": []
    },
    {
      "cell_type": "code",
      "source": [
        "dir_name = '/content/drive/MyDrive/DAIC-WOZ/depression-detection/cleaned_files'\n",
        "\n",
        "# walks through wav files in dir_name and creates pngs of the spectrograms.\n",
        "# This is a visual representation of what is passed to the CNN before\n",
        "# normalization, although a cropped matrix representation is actually\n",
        "# passed.\n",
        "for subdir, dirs, files in os.walk(dir_name):\n",
        "    for file in files:\n",
        "        if file.endswith('.wav'):\n",
        "          wav_file = os.path.join(subdir, file)\n",
        "          png_name = subdir + '/' + file[:-4] + '.png'\n",
        "          print('Processing '+ file + '...')\n",
        "          stft_matrix(wav_file, png_name=png_name, save_png=True)"
      ],
      "metadata": {
        "colab": {
          "base_uri": "https://localhost:8080/"
        },
        "id": "-aQ1iw0aJnDp",
        "outputId": "e9fecfcf-8b9a-4d34-a0a4-0ef55afc0783"
      },
      "execution_count": null,
      "outputs": [
        {
          "output_type": "stream",
          "name": "stdout",
          "text": [
            "Processing P301_no_silence.wav...\n",
            "Processing P302_no_silence.wav...\n",
            "Processing P303_no_silence.wav...\n",
            "Processing P304_no_silence.wav...\n",
            "Processing P307_no_silence.wav...\n",
            "Processing P309_no_silence.wav...\n",
            "Processing P310_no_silence.wav...\n",
            "Processing P311_no_silence.wav...\n",
            "Processing P312_no_silence.wav...\n",
            "Processing P313_no_silence.wav...\n",
            "Processing P314_no_silence.wav...\n",
            "Processing P317_no_silence.wav...\n",
            "Processing P318_no_silence.wav...\n",
            "Processing P319_no_silence.wav...\n",
            "Processing P320_no_silence.wav...\n",
            "Processing P321_no_silence.wav...\n",
            "Processing P322_no_silence.wav...\n",
            "Processing P323_no_silence.wav...\n",
            "Processing P324_no_silence.wav...\n",
            "Processing P325_no_silence.wav...\n",
            "Processing P326_no_silence.wav...\n",
            "Processing P327_no_silence.wav...\n"
          ]
        },
        {
          "output_type": "stream",
          "name": "stderr",
          "text": [
            "/usr/local/lib/python3.7/dist-packages/ipykernel_launcher.py:65: RuntimeWarning: divide by zero encountered in log10\n"
          ]
        },
        {
          "output_type": "stream",
          "name": "stdout",
          "text": [
            "Processing P328_no_silence.wav...\n",
            "Processing P329_no_silence.wav...\n",
            "Processing P330_no_silence.wav...\n",
            "Processing P331_no_silence.wav...\n",
            "Processing P332_no_silence.wav...\n",
            "Processing P333_no_silence.wav...\n",
            "Processing P334_no_silence.wav...\n",
            "Processing P335_no_silence.wav...\n",
            "Processing P336_no_silence.wav...\n",
            "Processing P337_no_silence.wav...\n",
            "Processing P338_no_silence.wav...\n",
            "Processing P339_no_silence.wav...\n",
            "Processing P340_no_silence.wav...\n",
            "Processing P341_no_silence.wav...\n",
            "Processing P344_no_silence.wav...\n",
            "Processing P345_no_silence.wav...\n",
            "Processing P346_no_silence.wav...\n",
            "Processing P347_no_silence.wav...\n",
            "Processing P348_no_silence.wav...\n",
            "Processing P349_no_silence.wav...\n",
            "Processing P350_no_silence.wav...\n",
            "Processing P351_no_silence.wav...\n",
            "Processing P352_no_silence.wav...\n",
            "Processing P353_no_silence.wav...\n",
            "Processing P355_no_silence.wav...\n",
            "Processing P356_no_silence.wav...\n",
            "Processing P357_no_silence.wav...\n",
            "Processing P358_no_silence.wav...\n",
            "Processing P359_no_silence.wav...\n",
            "Processing P360_no_silence.wav...\n",
            "Processing P361_no_silence.wav...\n",
            "Processing P363_no_silence.wav...\n",
            "Processing P364_no_silence.wav...\n",
            "Processing P365_no_silence.wav...\n",
            "Processing P366_no_silence.wav...\n",
            "Processing P367_no_silence.wav...\n",
            "Processing P368_no_silence.wav...\n",
            "Processing P369_no_silence.wav...\n",
            "Processing P370_no_silence.wav...\n",
            "Processing P371_no_silence.wav...\n",
            "Processing P372_no_silence.wav...\n",
            "Processing P373_no_silence.wav...\n",
            "Processing P374_no_silence.wav...\n",
            "Processing P376_no_silence.wav...\n",
            "Processing P377_no_silence.wav...\n",
            "Processing P379_no_silence.wav...\n",
            "Processing P380_no_silence.wav...\n",
            "Processing P383_no_silence.wav...\n",
            "Processing P384_no_silence.wav...\n",
            "Processing P386_no_silence.wav...\n",
            "Processing P389_no_silence.wav...\n",
            "Processing P391_no_silence.wav...\n",
            "Processing P396_no_silence.wav...\n",
            "Processing P397_no_silence.wav...\n",
            "Processing P399_no_silence.wav...\n",
            "Processing P400_no_silence.wav...\n"
          ]
        }
      ]
    },
    {
      "cell_type": "code",
      "source": [
        "df_train = pd.read_csv('/content/drive/MyDrive/DAIC-WOZ/train_split_Depression_AVEC2017.csv')\n",
        "df_test = pd.read_csv('/content/drive/MyDrive/DAIC-WOZ/test_split_Depression_AVEC2017.csv')\n",
        "df_dev = pd.concat([df_train, df_test], axis=0)"
      ],
      "metadata": {
        "id": "aciBZ1IMspsb"
      },
      "execution_count": null,
      "outputs": []
    },
    {
      "cell_type": "code",
      "source": [
        "df_train.head()"
      ],
      "metadata": {
        "colab": {
          "base_uri": "https://localhost:8080/",
          "height": 270
        },
        "id": "BCKNEXbpszF1",
        "outputId": "1f231e33-7ca8-4b7b-bc07-a84bf242fec7"
      },
      "execution_count": null,
      "outputs": [
        {
          "output_type": "execute_result",
          "data": {
            "text/plain": [
              "   Participant_ID  PHQ8_Binary  PHQ8_Score  Gender  PHQ8_NoInterest  \\\n",
              "0             303            0           0       0                0   \n",
              "1             304            0           6       0                0   \n",
              "2             305            0           7       1                0   \n",
              "3             310            0           4       1                1   \n",
              "4             312            0           2       1                0   \n",
              "\n",
              "   PHQ8_Depressed  PHQ8_Sleep  PHQ8_Tired  PHQ8_Appetite  PHQ8_Failure  \\\n",
              "0               0         0.0           0              0             0   \n",
              "1               1         1.0           2              2             0   \n",
              "2               1         1.0           2              2             1   \n",
              "3               1         0.0           0              0             1   \n",
              "4               0         1.0           1              0             0   \n",
              "\n",
              "   PHQ8_Concentrating  PHQ8_Moving  \n",
              "0                   0            0  \n",
              "1                   0            0  \n",
              "2                   0            0  \n",
              "3                   1            0  \n",
              "4                   0            0  "
            ],
            "text/html": [
              "\n",
              "  <div id=\"df-38bd4a92-c81a-4fe2-b23b-0104d1286d22\">\n",
              "    <div class=\"colab-df-container\">\n",
              "      <div>\n",
              "<style scoped>\n",
              "    .dataframe tbody tr th:only-of-type {\n",
              "        vertical-align: middle;\n",
              "    }\n",
              "\n",
              "    .dataframe tbody tr th {\n",
              "        vertical-align: top;\n",
              "    }\n",
              "\n",
              "    .dataframe thead th {\n",
              "        text-align: right;\n",
              "    }\n",
              "</style>\n",
              "<table border=\"1\" class=\"dataframe\">\n",
              "  <thead>\n",
              "    <tr style=\"text-align: right;\">\n",
              "      <th></th>\n",
              "      <th>Participant_ID</th>\n",
              "      <th>PHQ8_Binary</th>\n",
              "      <th>PHQ8_Score</th>\n",
              "      <th>Gender</th>\n",
              "      <th>PHQ8_NoInterest</th>\n",
              "      <th>PHQ8_Depressed</th>\n",
              "      <th>PHQ8_Sleep</th>\n",
              "      <th>PHQ8_Tired</th>\n",
              "      <th>PHQ8_Appetite</th>\n",
              "      <th>PHQ8_Failure</th>\n",
              "      <th>PHQ8_Concentrating</th>\n",
              "      <th>PHQ8_Moving</th>\n",
              "    </tr>\n",
              "  </thead>\n",
              "  <tbody>\n",
              "    <tr>\n",
              "      <th>0</th>\n",
              "      <td>303</td>\n",
              "      <td>0</td>\n",
              "      <td>0</td>\n",
              "      <td>0</td>\n",
              "      <td>0</td>\n",
              "      <td>0</td>\n",
              "      <td>0.0</td>\n",
              "      <td>0</td>\n",
              "      <td>0</td>\n",
              "      <td>0</td>\n",
              "      <td>0</td>\n",
              "      <td>0</td>\n",
              "    </tr>\n",
              "    <tr>\n",
              "      <th>1</th>\n",
              "      <td>304</td>\n",
              "      <td>0</td>\n",
              "      <td>6</td>\n",
              "      <td>0</td>\n",
              "      <td>0</td>\n",
              "      <td>1</td>\n",
              "      <td>1.0</td>\n",
              "      <td>2</td>\n",
              "      <td>2</td>\n",
              "      <td>0</td>\n",
              "      <td>0</td>\n",
              "      <td>0</td>\n",
              "    </tr>\n",
              "    <tr>\n",
              "      <th>2</th>\n",
              "      <td>305</td>\n",
              "      <td>0</td>\n",
              "      <td>7</td>\n",
              "      <td>1</td>\n",
              "      <td>0</td>\n",
              "      <td>1</td>\n",
              "      <td>1.0</td>\n",
              "      <td>2</td>\n",
              "      <td>2</td>\n",
              "      <td>1</td>\n",
              "      <td>0</td>\n",
              "      <td>0</td>\n",
              "    </tr>\n",
              "    <tr>\n",
              "      <th>3</th>\n",
              "      <td>310</td>\n",
              "      <td>0</td>\n",
              "      <td>4</td>\n",
              "      <td>1</td>\n",
              "      <td>1</td>\n",
              "      <td>1</td>\n",
              "      <td>0.0</td>\n",
              "      <td>0</td>\n",
              "      <td>0</td>\n",
              "      <td>1</td>\n",
              "      <td>1</td>\n",
              "      <td>0</td>\n",
              "    </tr>\n",
              "    <tr>\n",
              "      <th>4</th>\n",
              "      <td>312</td>\n",
              "      <td>0</td>\n",
              "      <td>2</td>\n",
              "      <td>1</td>\n",
              "      <td>0</td>\n",
              "      <td>0</td>\n",
              "      <td>1.0</td>\n",
              "      <td>1</td>\n",
              "      <td>0</td>\n",
              "      <td>0</td>\n",
              "      <td>0</td>\n",
              "      <td>0</td>\n",
              "    </tr>\n",
              "  </tbody>\n",
              "</table>\n",
              "</div>\n",
              "      <button class=\"colab-df-convert\" onclick=\"convertToInteractive('df-38bd4a92-c81a-4fe2-b23b-0104d1286d22')\"\n",
              "              title=\"Convert this dataframe to an interactive table.\"\n",
              "              style=\"display:none;\">\n",
              "        \n",
              "  <svg xmlns=\"http://www.w3.org/2000/svg\" height=\"24px\"viewBox=\"0 0 24 24\"\n",
              "       width=\"24px\">\n",
              "    <path d=\"M0 0h24v24H0V0z\" fill=\"none\"/>\n",
              "    <path d=\"M18.56 5.44l.94 2.06.94-2.06 2.06-.94-2.06-.94-.94-2.06-.94 2.06-2.06.94zm-11 1L8.5 8.5l.94-2.06 2.06-.94-2.06-.94L8.5 2.5l-.94 2.06-2.06.94zm10 10l.94 2.06.94-2.06 2.06-.94-2.06-.94-.94-2.06-.94 2.06-2.06.94z\"/><path d=\"M17.41 7.96l-1.37-1.37c-.4-.4-.92-.59-1.43-.59-.52 0-1.04.2-1.43.59L10.3 9.45l-7.72 7.72c-.78.78-.78 2.05 0 2.83L4 21.41c.39.39.9.59 1.41.59.51 0 1.02-.2 1.41-.59l7.78-7.78 2.81-2.81c.8-.78.8-2.07 0-2.86zM5.41 20L4 18.59l7.72-7.72 1.47 1.35L5.41 20z\"/>\n",
              "  </svg>\n",
              "      </button>\n",
              "      \n",
              "  <style>\n",
              "    .colab-df-container {\n",
              "      display:flex;\n",
              "      flex-wrap:wrap;\n",
              "      gap: 12px;\n",
              "    }\n",
              "\n",
              "    .colab-df-convert {\n",
              "      background-color: #E8F0FE;\n",
              "      border: none;\n",
              "      border-radius: 50%;\n",
              "      cursor: pointer;\n",
              "      display: none;\n",
              "      fill: #1967D2;\n",
              "      height: 32px;\n",
              "      padding: 0 0 0 0;\n",
              "      width: 32px;\n",
              "    }\n",
              "\n",
              "    .colab-df-convert:hover {\n",
              "      background-color: #E2EBFA;\n",
              "      box-shadow: 0px 1px 2px rgba(60, 64, 67, 0.3), 0px 1px 3px 1px rgba(60, 64, 67, 0.15);\n",
              "      fill: #174EA6;\n",
              "    }\n",
              "\n",
              "    [theme=dark] .colab-df-convert {\n",
              "      background-color: #3B4455;\n",
              "      fill: #D2E3FC;\n",
              "    }\n",
              "\n",
              "    [theme=dark] .colab-df-convert:hover {\n",
              "      background-color: #434B5C;\n",
              "      box-shadow: 0px 1px 3px 1px rgba(0, 0, 0, 0.15);\n",
              "      filter: drop-shadow(0px 1px 2px rgba(0, 0, 0, 0.3));\n",
              "      fill: #FFFFFF;\n",
              "    }\n",
              "  </style>\n",
              "\n",
              "      <script>\n",
              "        const buttonEl =\n",
              "          document.querySelector('#df-38bd4a92-c81a-4fe2-b23b-0104d1286d22 button.colab-df-convert');\n",
              "        buttonEl.style.display =\n",
              "          google.colab.kernel.accessAllowed ? 'block' : 'none';\n",
              "\n",
              "        async function convertToInteractive(key) {\n",
              "          const element = document.querySelector('#df-38bd4a92-c81a-4fe2-b23b-0104d1286d22');\n",
              "          const dataTable =\n",
              "            await google.colab.kernel.invokeFunction('convertToInteractive',\n",
              "                                                     [key], {});\n",
              "          if (!dataTable) return;\n",
              "\n",
              "          const docLinkHtml = 'Like what you see? Visit the ' +\n",
              "            '<a target=\"_blank\" href=https://colab.research.google.com/notebooks/data_table.ipynb>data table notebook</a>'\n",
              "            + ' to learn more about interactive tables.';\n",
              "          element.innerHTML = '';\n",
              "          dataTable['output_type'] = 'display_data';\n",
              "          await google.colab.output.renderOutput(dataTable, element);\n",
              "          const docLink = document.createElement('div');\n",
              "          docLink.innerHTML = docLinkHtml;\n",
              "          element.appendChild(docLink);\n",
              "        }\n",
              "      </script>\n",
              "    </div>\n",
              "  </div>\n",
              "  "
            ]
          },
          "metadata": {},
          "execution_count": 8
        }
      ]
    },
    {
      "cell_type": "code",
      "source": [
        "def build_class_dictionaries(dir_name):\n",
        "    \"\"\"\n",
        "    Builds a dictionary of depressed participants and non-depressed\n",
        "    participants with the participant id as the key and the matrix\n",
        "    representation of the no_silence wav file as the value. These\n",
        "    values of this dictionary are then randomly cropped and sampled\n",
        "    from to create balanced class and speaker inputs to the CNN.\n",
        "    Parameters\n",
        "    ----------\n",
        "    dir_name : filepath\n",
        "        directory containing participant's folders (which contains the\n",
        "        no_silence.wav)\n",
        "    Returns\n",
        "    -------\n",
        "    depressed_dict : dictionary\n",
        "        dictionary of depressed individuals with keys of participant id\n",
        "        and values of with the matrix spectrogram representation\n",
        "    normal_dict : dictionary\n",
        "        dictionary of non-depressed individuals with keys of participant id\n",
        "        and values of with the matrix spectrogram representation\n",
        "    \"\"\"\n",
        "    print(\"dir name: \"+dir_name)\n",
        "    depressed_dict = dict()\n",
        "    normal_dict = dict()\n",
        "    for subdir, dirs, files in os.walk(dir_name):\n",
        "        for file in files:\n",
        "            if file.endswith('no_silence.wav'):\n",
        "                partic_id = int(file.split('_')[0][1:])\n",
        "                if in_dev_split(partic_id):\n",
        "                    wav_file = os.path.join(subdir, file)\n",
        "                    # matrix representation of spectrogram\n",
        "                    mat = stft_matrix(wav_file)\n",
        "                    depressed = get_depression_label(partic_id)  # 1 if True\n",
        "                    if depressed:\n",
        "                        depressed_dict[partic_id] = mat\n",
        "                    elif not depressed:\n",
        "                        normal_dict[partic_id] = mat\n",
        "    return depressed_dict, normal_dict\n",
        "\n",
        "def in_dev_split(partic_id):\n",
        "    \"\"\"\n",
        "    Returns True if the participant is in the AVEC development split\n",
        "    (aka participant's we have depression labels for)\n",
        "    \"\"\"\n",
        "    return partic_id in set(df_dev['Participant_ID'].values)\n",
        "\n",
        "def get_depression_label(partic_id):\n",
        "    \"\"\"\n",
        "    Returns participant's PHQ8 Binary label. 1 representing depression;\n",
        "    0 representing no depression.\n",
        "    \"\"\"\n",
        "    return df_dev.loc[df_dev['Participant_ID'] ==\n",
        "                      partic_id]['PHQ8_Binary'].item()"
      ],
      "metadata": {
        "id": "sRxhmGE5tDPc"
      },
      "execution_count": null,
      "outputs": []
    },
    {
      "cell_type": "code",
      "source": [
        "dir_name = '/content/drive/MyDrive/DAIC-WOZ/depression-detection/cleaned_files'\n",
        "depressed_dict, normal_dict = build_class_dictionaries(dir_name)"
      ],
      "metadata": {
        "colab": {
          "base_uri": "https://localhost:8080/"
        },
        "id": "PuGUpSHJs-LI",
        "outputId": "fa9fdaf0-1dcb-4ac4-e4b6-632d31c4e1bd"
      },
      "execution_count": null,
      "outputs": [
        {
          "output_type": "stream",
          "name": "stdout",
          "text": [
            "dir name: /content/drive/MyDrive/DAIC-WOZ/depression-detection/cleaned_files\n"
          ]
        },
        {
          "output_type": "stream",
          "name": "stderr",
          "text": [
            "/usr/local/lib/python3.7/dist-packages/ipykernel_launcher.py:65: RuntimeWarning: divide by zero encountered in log10\n"
          ]
        }
      ]
    },
    {
      "cell_type": "code",
      "source": [
        "len(normal_dict)"
      ],
      "metadata": {
        "colab": {
          "base_uri": "https://localhost:8080/"
        },
        "id": "M1DCzf4It_Lc",
        "outputId": "5044a62e-9011-4133-c185-cc26a3fda2e7"
      },
      "execution_count": null,
      "outputs": [
        {
          "output_type": "execute_result",
          "data": {
            "text/plain": [
              "32"
            ]
          },
          "metadata": {},
          "execution_count": 13
        }
      ]
    },
    {
      "cell_type": "code",
      "source": [
        "len(depressed_dict)"
      ],
      "metadata": {
        "colab": {
          "base_uri": "https://localhost:8080/"
        },
        "id": "9hCIdoJqvkWT",
        "outputId": "9fd47901-4be2-4201-ae7f-2db6d0a5ed12"
      },
      "execution_count": null,
      "outputs": [
        {
          "output_type": "execute_result",
          "data": {
            "text/plain": [
              "21"
            ]
          },
          "metadata": {},
          "execution_count": 14
        }
      ]
    },
    {
      "cell_type": "code",
      "source": [
        "np.mean(depressed_dict[372][0])"
      ],
      "metadata": {
        "colab": {
          "base_uri": "https://localhost:8080/"
        },
        "id": "DDpm4J38yVXp",
        "outputId": "53dea0fa-d826-4657-cb59-d837afb75049"
      },
      "execution_count": null,
      "outputs": [
        {
          "output_type": "execute_result",
          "data": {
            "text/plain": [
              "126.2002477444343"
            ]
          },
          "metadata": {},
          "execution_count": 46
        }
      ]
    },
    {
      "cell_type": "code",
      "source": [
        "np.mean(depressed_dict[372], axis=1)"
      ],
      "metadata": {
        "colab": {
          "base_uri": "https://localhost:8080/"
        },
        "id": "eBTje---v9v3",
        "outputId": "1c6de033-b0d2-4916-cdf3-bf7f505c604f"
      },
      "execution_count": null,
      "outputs": [
        {
          "output_type": "execute_result",
          "data": {
            "text/plain": [
              "array([126.20024774, 129.27683055, 129.46544186, 129.29263542,\n",
              "       129.44042534, 129.70193448, 129.64078754, 129.71279247,\n",
              "       129.82265087, 129.96922948, 130.03517676, 130.11897245,\n",
              "       130.19364415, 130.25025579, 130.45038444, 130.5762402 ,\n",
              "       130.77021701, 130.91828251, 130.91725107, 130.92185182,\n",
              "       131.0946188 , 131.22353238, 131.28893832, 131.40364758,\n",
              "       131.58458   , 131.77832244, 131.85734164, 131.96099997,\n",
              "       132.12584083, 132.20479329, 132.35929961, 132.53856904,\n",
              "       132.46995828, 132.65987244, 132.80714281, 133.09822574,\n",
              "       133.25971202, 133.4305809 , 133.56895751, 133.75875706,\n",
              "       133.84669248, 134.0291568 , 134.08494195, 134.17575577,\n",
              "       134.26774113, 134.33765902, 134.52618655, 134.65526591,\n",
              "       134.74048204, 134.75825161, 134.89974868, 134.96588157,\n",
              "       134.92934837, 134.90299458, 134.99140182, 135.08325737,\n",
              "       135.03473433, 135.19230265, 135.18638341, 135.10271491,\n",
              "       135.16403119, 135.16540995, 135.179846  , 135.16852779,\n",
              "       135.18405619, 135.13319103, 135.17980956, 135.15689668,\n",
              "       135.24720402, 135.18097226, 135.21221932, 135.18645247,\n",
              "       135.1049192 , 135.13821375, 135.20788825, 135.19418585,\n",
              "       135.20047625, 135.17039737, 135.13723652, 135.09268181,\n",
              "       134.98333394, 134.94105822, 134.85123747, 134.84631875,\n",
              "       134.82922857, 134.72927917, 134.65385101, 134.5994072 ,\n",
              "       134.556236  , 134.50816888, 134.41729061, 134.33791322,\n",
              "       134.27504038, 134.22741552, 134.20720864, 134.14298806,\n",
              "       134.08853782, 133.97964866, 133.88497846, 133.92562688,\n",
              "       133.90753085, 133.86947925, 133.86687031, 133.76962287,\n",
              "       133.7706254 , 133.80370024, 133.78085463, 133.70019385,\n",
              "       133.65964186, 133.66233425, 133.7107487 , 133.70401857,\n",
              "       133.70194183, 133.65963358, 133.76302076, 133.73425573,\n",
              "       133.65801966, 133.68095026, 133.68448188, 133.76510953,\n",
              "       133.84489992, 133.81852795, 133.85457464, 133.82479142,\n",
              "       133.86173748, 133.87661813, 133.96206537, 134.00544591,\n",
              "       134.04844785, 134.07662561, 134.10297649, 134.17878167,\n",
              "       134.27272455, 134.36182814, 134.43458499, 134.30358713,\n",
              "       134.3977295 , 134.49423409, 134.52838614, 134.57644272,\n",
              "       134.61217238, 134.71385713, 134.79166719, 134.83124877,\n",
              "       134.84610948, 134.97309904, 135.09901309, 135.19378363,\n",
              "       135.25485258, 135.32578411, 135.39201164, 135.43721589,\n",
              "       135.59705773, 135.81256324, 135.89597406, 136.03375058,\n",
              "       136.11003256, 136.20493929, 136.35542299, 136.50001036,\n",
              "       136.49828561, 136.58606803, 136.80079126, 136.95204969,\n",
              "       137.0962411 , 137.28849044, 137.43097457, 137.56593927,\n",
              "       137.73436479, 137.9366786 , 138.14367245, 138.26465186,\n",
              "       138.45400379, 138.6800125 , 138.85171195, 138.94611883,\n",
              "       139.23911684, 139.42500341, 139.54649485, 139.67747087,\n",
              "       139.81961266, 139.99590201, 140.17786774, 140.32197627,\n",
              "       140.47547555, 140.63529429, 140.75470622, 140.88312614,\n",
              "       141.03363425, 141.22171707, 141.22118223, 141.39356992,\n",
              "       141.58347893, 141.72058619, 141.83313903, 141.95116471,\n",
              "       142.02891482, 142.16012575, 142.28847115, 142.40787896,\n",
              "       142.53275476, 142.6685971 , 142.67162379, 142.77214343,\n",
              "       142.8487552 , 142.87175637, 142.94964075, 143.1238528 ,\n",
              "       143.17243894, 143.23782459, 143.29845676, 143.36057551,\n",
              "       143.44681817, 143.47930944, 143.55840098, 143.58835036,\n",
              "       143.71809813, 143.82303764, 143.8927199 , 143.9087793 ,\n",
              "       143.94415601, 144.07916682, 144.19880576, 144.14193578,\n",
              "       144.1422098 , 144.2323588 , 144.34751726, 144.64610179,\n",
              "       144.8403837 , 144.70336206, 144.72259448, 144.82918791,\n",
              "       144.88645516, 145.02455122, 145.05446861, 145.1339735 ,\n",
              "       145.24719995, 145.3175862 , 145.46105872, 145.52948064,\n",
              "       145.60352328, 145.72422598, 145.76202948, 145.82601389,\n",
              "       145.87557435, 145.88791573, 145.90973397, 146.05525776,\n",
              "       146.18698023, 146.25748335, 146.39194374, 146.44698241,\n",
              "       146.4825251 , 146.45304686, 146.51135882, 146.53872196,\n",
              "       146.58558324, 146.63209885, 146.73945289, 146.82803458,\n",
              "       146.86369899, 146.88836781, 146.82355479, 146.92329069,\n",
              "       146.82360648, 146.76441725, 146.83852496, 146.79826653,\n",
              "       146.73728498, 146.6902827 , 146.76918337, 146.74267951,\n",
              "       146.66331567, 146.65328867, 146.63405487, 146.70131286,\n",
              "       146.63563941, 146.59227567, 146.62073255, 146.54816652,\n",
              "       146.50937151, 146.52012055, 146.5072683 , 146.45554361,\n",
              "       146.41790988, 146.45861278, 146.50320229, 146.47811189,\n",
              "       146.44744766, 146.52901254, 146.49888273, 146.5561578 ,\n",
              "       146.62839524, 146.70035332, 146.82068695, 146.86147496,\n",
              "       146.93045615, 147.04431861, 147.12709218, 147.24448122,\n",
              "       147.38204328, 147.5464657 , 147.71048783, 147.80951399,\n",
              "       147.91629438, 148.05827506, 148.10145458, 148.27245576,\n",
              "       148.54209461, 148.5500563 , 148.64730007, 148.80304802,\n",
              "       148.87670604, 148.91491306, 148.95098115, 149.10901471,\n",
              "       149.15971779, 149.04727056, 149.10327933, 149.21128008,\n",
              "       149.21541848, 149.16976967, 149.12579345, 149.11121733,\n",
              "       148.93015324, 148.89155614, 148.92870428, 148.80549982,\n",
              "       148.69655503, 148.68317977, 148.66134196, 148.63597963,\n",
              "       148.56756572, 148.43740088, 148.36541579, 148.325408  ,\n",
              "       148.17812251, 148.15833037, 148.15554746, 148.12631096,\n",
              "       148.0900011 , 148.06097661, 148.0711774 , 148.12235928,\n",
              "       148.03769098, 148.05715995, 148.10412483, 148.1097702 ,\n",
              "       148.14796663, 148.09150236, 148.21448482, 148.26050328,\n",
              "       148.33275792, 148.59949209, 148.50104791, 148.54569129,\n",
              "       148.55139014, 148.70857383, 148.81478247, 148.64224981,\n",
              "       148.6919549 , 148.69181693, 148.70737513, 148.75067014,\n",
              "       148.74335442, 148.83653261, 148.9393452 , 148.9074477 ,\n",
              "       149.01301085, 149.21375763, 149.30646172, 149.46295264,\n",
              "       149.58635233, 149.75783376, 149.81224947, 149.9345404 ,\n",
              "       150.09424249, 150.27368137, 150.42381801, 150.61082819,\n",
              "       150.62446309, 150.83140299, 150.95141619, 151.02444689,\n",
              "       151.38908415, 151.58118458, 151.62575713, 151.89416987,\n",
              "       151.99045816, 152.02946337, 152.05503406, 152.00860405,\n",
              "       152.06352179, 152.18742211, 152.35455775, 152.58592842,\n",
              "       152.58865343, 152.51420704, 152.57900066, 152.53945783,\n",
              "       152.51780682, 152.43856058, 152.52179079, 152.42006716,\n",
              "       152.6100771 , 152.61568152, 152.60315281, 152.54164479,\n",
              "       152.573509  , 152.56714551, 152.3717527 , 152.32299614,\n",
              "       152.29907572, 152.3006015 , 152.43102713, 152.44502584,\n",
              "       152.07383562, 152.15496332, 152.52326414, 152.27591088,\n",
              "       151.83881951, 151.72406604, 151.55157593, 151.48549393,\n",
              "       151.22759328, 151.08673759, 151.20951323, 151.33454007,\n",
              "       151.40646278, 151.51123229, 151.62737745, 151.66081085,\n",
              "       151.86921355, 152.1652207 , 152.17933455, 152.29342651,\n",
              "       152.43986225, 152.45364693, 152.72449961, 153.05447829,\n",
              "       153.32027144, 153.6707071 , 153.90274684, 154.11378344,\n",
              "       154.42531475, 154.69553181, 154.99703189, 155.31055022,\n",
              "       155.63564717, 156.04716236, 156.5640845 , 157.10252   ,\n",
              "       157.2667903 , 157.79590445, 158.17882919, 158.04017682,\n",
              "       158.36412761, 159.00358092, 159.00480209, 159.07347016,\n",
              "       159.71220734, 159.75745502, 160.22921771, 161.08173612,\n",
              "       161.13123009, 161.15285604, 161.80694947, 162.31427787,\n",
              "       161.9547167 , 162.3285435 , 162.81008413, 163.48296373,\n",
              "       163.83334099, 164.00873182, 164.75934253, 164.82229818,\n",
              "       164.74381277, 165.03158418, 165.48428069, 165.50562139,\n",
              "       165.29196027, 165.45856179, 165.48392324, 165.96077008,\n",
              "       166.60971383, 166.77860229, 167.97190763, 168.1753393 ,\n",
              "       167.4831382 , 166.96286395, 166.10220848, 165.34650295,\n",
              "       164.99139759, 164.77418922, 165.06072471, 165.46962992,\n",
              "       166.47422663, 167.88817814, 169.6780495 , 170.58564449,\n",
              "       169.47480645, 166.49897189, 162.84625761, 159.7572552 ,\n",
              "       159.14117416, 159.07693662, 159.50209223, 160.71912235,\n",
              "       163.24233671, 164.47081895, 173.8851428 , 179.47196597,\n",
              "       176.76156104])"
            ]
          },
          "metadata": {},
          "execution_count": 45
        }
      ]
    },
    {
      "cell_type": "code",
      "source": [
        "depressed_dict[319].shape"
      ],
      "metadata": {
        "colab": {
          "base_uri": "https://localhost:8080/"
        },
        "id": "QIE0c5r_vnhx",
        "outputId": "0781cd91-2894-4d3e-9792-c4f140caf17a"
      },
      "execution_count": null,
      "outputs": [
        {
          "output_type": "execute_result",
          "data": {
            "text/plain": [
              "(513, 8935)"
            ]
          },
          "metadata": {},
          "execution_count": 30
        }
      ]
    },
    {
      "cell_type": "code",
      "source": [
        "normal_dict[304].shape"
      ],
      "metadata": {
        "colab": {
          "base_uri": "https://localhost:8080/"
        },
        "id": "NnFKs-nkwf24",
        "outputId": "01ccbe41-9cea-44fc-8c9e-717ece91937a"
      },
      "execution_count": null,
      "outputs": [
        {
          "output_type": "execute_result",
          "data": {
            "text/plain": [
              "(513, 11675)"
            ]
          },
          "metadata": {},
          "execution_count": 36
        }
      ]
    },
    {
      "cell_type": "code",
      "source": [
        "data = pd.DataFrame(columns=['feature', 'label'])"
      ],
      "metadata": {
        "id": "trxtO_Byy1c-"
      },
      "execution_count": null,
      "outputs": []
    },
    {
      "cell_type": "code",
      "source": [
        "data"
      ],
      "metadata": {
        "colab": {
          "base_uri": "https://localhost:8080/",
          "height": 49
        },
        "id": "JlyWBeNqzMjq",
        "outputId": "ff9f0c52-3842-49a0-fcc1-b37a509a2fe3"
      },
      "execution_count": null,
      "outputs": [
        {
          "output_type": "execute_result",
          "data": {
            "text/plain": [
              "Empty DataFrame\n",
              "Columns: [feature, label]\n",
              "Index: []"
            ],
            "text/html": [
              "\n",
              "  <div id=\"df-ccb0d3da-18de-4c44-aa07-dcf7aec8ca1e\">\n",
              "    <div class=\"colab-df-container\">\n",
              "      <div>\n",
              "<style scoped>\n",
              "    .dataframe tbody tr th:only-of-type {\n",
              "        vertical-align: middle;\n",
              "    }\n",
              "\n",
              "    .dataframe tbody tr th {\n",
              "        vertical-align: top;\n",
              "    }\n",
              "\n",
              "    .dataframe thead th {\n",
              "        text-align: right;\n",
              "    }\n",
              "</style>\n",
              "<table border=\"1\" class=\"dataframe\">\n",
              "  <thead>\n",
              "    <tr style=\"text-align: right;\">\n",
              "      <th></th>\n",
              "      <th>feature</th>\n",
              "      <th>label</th>\n",
              "    </tr>\n",
              "  </thead>\n",
              "  <tbody>\n",
              "  </tbody>\n",
              "</table>\n",
              "</div>\n",
              "      <button class=\"colab-df-convert\" onclick=\"convertToInteractive('df-ccb0d3da-18de-4c44-aa07-dcf7aec8ca1e')\"\n",
              "              title=\"Convert this dataframe to an interactive table.\"\n",
              "              style=\"display:none;\">\n",
              "        \n",
              "  <svg xmlns=\"http://www.w3.org/2000/svg\" height=\"24px\"viewBox=\"0 0 24 24\"\n",
              "       width=\"24px\">\n",
              "    <path d=\"M0 0h24v24H0V0z\" fill=\"none\"/>\n",
              "    <path d=\"M18.56 5.44l.94 2.06.94-2.06 2.06-.94-2.06-.94-.94-2.06-.94 2.06-2.06.94zm-11 1L8.5 8.5l.94-2.06 2.06-.94-2.06-.94L8.5 2.5l-.94 2.06-2.06.94zm10 10l.94 2.06.94-2.06 2.06-.94-2.06-.94-.94-2.06-.94 2.06-2.06.94z\"/><path d=\"M17.41 7.96l-1.37-1.37c-.4-.4-.92-.59-1.43-.59-.52 0-1.04.2-1.43.59L10.3 9.45l-7.72 7.72c-.78.78-.78 2.05 0 2.83L4 21.41c.39.39.9.59 1.41.59.51 0 1.02-.2 1.41-.59l7.78-7.78 2.81-2.81c.8-.78.8-2.07 0-2.86zM5.41 20L4 18.59l7.72-7.72 1.47 1.35L5.41 20z\"/>\n",
              "  </svg>\n",
              "      </button>\n",
              "      \n",
              "  <style>\n",
              "    .colab-df-container {\n",
              "      display:flex;\n",
              "      flex-wrap:wrap;\n",
              "      gap: 12px;\n",
              "    }\n",
              "\n",
              "    .colab-df-convert {\n",
              "      background-color: #E8F0FE;\n",
              "      border: none;\n",
              "      border-radius: 50%;\n",
              "      cursor: pointer;\n",
              "      display: none;\n",
              "      fill: #1967D2;\n",
              "      height: 32px;\n",
              "      padding: 0 0 0 0;\n",
              "      width: 32px;\n",
              "    }\n",
              "\n",
              "    .colab-df-convert:hover {\n",
              "      background-color: #E2EBFA;\n",
              "      box-shadow: 0px 1px 2px rgba(60, 64, 67, 0.3), 0px 1px 3px 1px rgba(60, 64, 67, 0.15);\n",
              "      fill: #174EA6;\n",
              "    }\n",
              "\n",
              "    [theme=dark] .colab-df-convert {\n",
              "      background-color: #3B4455;\n",
              "      fill: #D2E3FC;\n",
              "    }\n",
              "\n",
              "    [theme=dark] .colab-df-convert:hover {\n",
              "      background-color: #434B5C;\n",
              "      box-shadow: 0px 1px 3px 1px rgba(0, 0, 0, 0.15);\n",
              "      filter: drop-shadow(0px 1px 2px rgba(0, 0, 0, 0.3));\n",
              "      fill: #FFFFFF;\n",
              "    }\n",
              "  </style>\n",
              "\n",
              "      <script>\n",
              "        const buttonEl =\n",
              "          document.querySelector('#df-ccb0d3da-18de-4c44-aa07-dcf7aec8ca1e button.colab-df-convert');\n",
              "        buttonEl.style.display =\n",
              "          google.colab.kernel.accessAllowed ? 'block' : 'none';\n",
              "\n",
              "        async function convertToInteractive(key) {\n",
              "          const element = document.querySelector('#df-ccb0d3da-18de-4c44-aa07-dcf7aec8ca1e');\n",
              "          const dataTable =\n",
              "            await google.colab.kernel.invokeFunction('convertToInteractive',\n",
              "                                                     [key], {});\n",
              "          if (!dataTable) return;\n",
              "\n",
              "          const docLinkHtml = 'Like what you see? Visit the ' +\n",
              "            '<a target=\"_blank\" href=https://colab.research.google.com/notebooks/data_table.ipynb>data table notebook</a>'\n",
              "            + ' to learn more about interactive tables.';\n",
              "          element.innerHTML = '';\n",
              "          dataTable['output_type'] = 'display_data';\n",
              "          await google.colab.output.renderOutput(dataTable, element);\n",
              "          const docLink = document.createElement('div');\n",
              "          docLink.innerHTML = docLinkHtml;\n",
              "          element.appendChild(docLink);\n",
              "        }\n",
              "      </script>\n",
              "    </div>\n",
              "  </div>\n",
              "  "
            ]
          },
          "metadata": {},
          "execution_count": 16
        }
      ]
    },
    {
      "cell_type": "code",
      "source": [
        "i=0\n",
        "for entry in depressed_dict:\n",
        "  features = np.mean(depressed_dict[entry], axis=1)\n",
        "  data.loc[i] = [features, 1]\n",
        "  i=i+1"
      ],
      "metadata": {
        "id": "TTZVGuoYwDMY"
      },
      "execution_count": null,
      "outputs": []
    },
    {
      "cell_type": "code",
      "source": [
        "for entry in normal_dict:\n",
        "  features = np.mean(normal_dict[entry], axis=1)\n",
        "  data.loc[i] = [features, 0]\n",
        "  i=i+1"
      ],
      "metadata": {
        "id": "mX0PZcvu03N7"
      },
      "execution_count": null,
      "outputs": []
    },
    {
      "cell_type": "code",
      "source": [
        "data.head()"
      ],
      "metadata": {
        "colab": {
          "base_uri": "https://localhost:8080/",
          "height": 206
        },
        "id": "yyfae07o0-4t",
        "outputId": "2b6a7f56-3c5e-4ca2-9c21-f7ceca4073aa"
      },
      "execution_count": null,
      "outputs": [
        {
          "output_type": "execute_result",
          "data": {
            "text/plain": [
              "                                             feature label\n",
              "0  [120.9369828347032, 124.10003769474918, 124.24...     1\n",
              "1  [123.46521743780323, 126.39837745042487, 126.5...     1\n",
              "2  [118.73505362591818, 121.93769079267553, 122.2...     1\n",
              "3  [122.90534364773356, 125.84956975948043, 126.0...     1\n",
              "4  [120.48609165792581, 123.58268568717973, 123.7...     1"
            ],
            "text/html": [
              "\n",
              "  <div id=\"df-c4b615a6-951b-4a6c-bbeb-c75b1f7aced7\">\n",
              "    <div class=\"colab-df-container\">\n",
              "      <div>\n",
              "<style scoped>\n",
              "    .dataframe tbody tr th:only-of-type {\n",
              "        vertical-align: middle;\n",
              "    }\n",
              "\n",
              "    .dataframe tbody tr th {\n",
              "        vertical-align: top;\n",
              "    }\n",
              "\n",
              "    .dataframe thead th {\n",
              "        text-align: right;\n",
              "    }\n",
              "</style>\n",
              "<table border=\"1\" class=\"dataframe\">\n",
              "  <thead>\n",
              "    <tr style=\"text-align: right;\">\n",
              "      <th></th>\n",
              "      <th>feature</th>\n",
              "      <th>label</th>\n",
              "    </tr>\n",
              "  </thead>\n",
              "  <tbody>\n",
              "    <tr>\n",
              "      <th>0</th>\n",
              "      <td>[120.9369828347032, 124.10003769474918, 124.24...</td>\n",
              "      <td>1</td>\n",
              "    </tr>\n",
              "    <tr>\n",
              "      <th>1</th>\n",
              "      <td>[123.46521743780323, 126.39837745042487, 126.5...</td>\n",
              "      <td>1</td>\n",
              "    </tr>\n",
              "    <tr>\n",
              "      <th>2</th>\n",
              "      <td>[118.73505362591818, 121.93769079267553, 122.2...</td>\n",
              "      <td>1</td>\n",
              "    </tr>\n",
              "    <tr>\n",
              "      <th>3</th>\n",
              "      <td>[122.90534364773356, 125.84956975948043, 126.0...</td>\n",
              "      <td>1</td>\n",
              "    </tr>\n",
              "    <tr>\n",
              "      <th>4</th>\n",
              "      <td>[120.48609165792581, 123.58268568717973, 123.7...</td>\n",
              "      <td>1</td>\n",
              "    </tr>\n",
              "  </tbody>\n",
              "</table>\n",
              "</div>\n",
              "      <button class=\"colab-df-convert\" onclick=\"convertToInteractive('df-c4b615a6-951b-4a6c-bbeb-c75b1f7aced7')\"\n",
              "              title=\"Convert this dataframe to an interactive table.\"\n",
              "              style=\"display:none;\">\n",
              "        \n",
              "  <svg xmlns=\"http://www.w3.org/2000/svg\" height=\"24px\"viewBox=\"0 0 24 24\"\n",
              "       width=\"24px\">\n",
              "    <path d=\"M0 0h24v24H0V0z\" fill=\"none\"/>\n",
              "    <path d=\"M18.56 5.44l.94 2.06.94-2.06 2.06-.94-2.06-.94-.94-2.06-.94 2.06-2.06.94zm-11 1L8.5 8.5l.94-2.06 2.06-.94-2.06-.94L8.5 2.5l-.94 2.06-2.06.94zm10 10l.94 2.06.94-2.06 2.06-.94-2.06-.94-.94-2.06-.94 2.06-2.06.94z\"/><path d=\"M17.41 7.96l-1.37-1.37c-.4-.4-.92-.59-1.43-.59-.52 0-1.04.2-1.43.59L10.3 9.45l-7.72 7.72c-.78.78-.78 2.05 0 2.83L4 21.41c.39.39.9.59 1.41.59.51 0 1.02-.2 1.41-.59l7.78-7.78 2.81-2.81c.8-.78.8-2.07 0-2.86zM5.41 20L4 18.59l7.72-7.72 1.47 1.35L5.41 20z\"/>\n",
              "  </svg>\n",
              "      </button>\n",
              "      \n",
              "  <style>\n",
              "    .colab-df-container {\n",
              "      display:flex;\n",
              "      flex-wrap:wrap;\n",
              "      gap: 12px;\n",
              "    }\n",
              "\n",
              "    .colab-df-convert {\n",
              "      background-color: #E8F0FE;\n",
              "      border: none;\n",
              "      border-radius: 50%;\n",
              "      cursor: pointer;\n",
              "      display: none;\n",
              "      fill: #1967D2;\n",
              "      height: 32px;\n",
              "      padding: 0 0 0 0;\n",
              "      width: 32px;\n",
              "    }\n",
              "\n",
              "    .colab-df-convert:hover {\n",
              "      background-color: #E2EBFA;\n",
              "      box-shadow: 0px 1px 2px rgba(60, 64, 67, 0.3), 0px 1px 3px 1px rgba(60, 64, 67, 0.15);\n",
              "      fill: #174EA6;\n",
              "    }\n",
              "\n",
              "    [theme=dark] .colab-df-convert {\n",
              "      background-color: #3B4455;\n",
              "      fill: #D2E3FC;\n",
              "    }\n",
              "\n",
              "    [theme=dark] .colab-df-convert:hover {\n",
              "      background-color: #434B5C;\n",
              "      box-shadow: 0px 1px 3px 1px rgba(0, 0, 0, 0.15);\n",
              "      filter: drop-shadow(0px 1px 2px rgba(0, 0, 0, 0.3));\n",
              "      fill: #FFFFFF;\n",
              "    }\n",
              "  </style>\n",
              "\n",
              "      <script>\n",
              "        const buttonEl =\n",
              "          document.querySelector('#df-c4b615a6-951b-4a6c-bbeb-c75b1f7aced7 button.colab-df-convert');\n",
              "        buttonEl.style.display =\n",
              "          google.colab.kernel.accessAllowed ? 'block' : 'none';\n",
              "\n",
              "        async function convertToInteractive(key) {\n",
              "          const element = document.querySelector('#df-c4b615a6-951b-4a6c-bbeb-c75b1f7aced7');\n",
              "          const dataTable =\n",
              "            await google.colab.kernel.invokeFunction('convertToInteractive',\n",
              "                                                     [key], {});\n",
              "          if (!dataTable) return;\n",
              "\n",
              "          const docLinkHtml = 'Like what you see? Visit the ' +\n",
              "            '<a target=\"_blank\" href=https://colab.research.google.com/notebooks/data_table.ipynb>data table notebook</a>'\n",
              "            + ' to learn more about interactive tables.';\n",
              "          element.innerHTML = '';\n",
              "          dataTable['output_type'] = 'display_data';\n",
              "          await google.colab.output.renderOutput(dataTable, element);\n",
              "          const docLink = document.createElement('div');\n",
              "          docLink.innerHTML = docLinkHtml;\n",
              "          element.appendChild(docLink);\n",
              "        }\n",
              "      </script>\n",
              "    </div>\n",
              "  </div>\n",
              "  "
            ]
          },
          "metadata": {},
          "execution_count": 19
        }
      ]
    },
    {
      "cell_type": "code",
      "source": [
        "df_features = pd.DataFrame(data['feature'].values.tolist())"
      ],
      "metadata": {
        "id": "947MFcab1syJ"
      },
      "execution_count": null,
      "outputs": []
    },
    {
      "cell_type": "code",
      "source": [
        "df_labels = pd.DataFrame(data['label'])"
      ],
      "metadata": {
        "id": "AIBXPwpJ2CCm"
      },
      "execution_count": null,
      "outputs": []
    },
    {
      "cell_type": "code",
      "source": [
        "newdf = pd.concat([df_features,df_labels], axis=1)"
      ],
      "metadata": {
        "id": "X9hT7wUJ2Ajx"
      },
      "execution_count": null,
      "outputs": []
    },
    {
      "cell_type": "code",
      "source": [
        "newdf.head()"
      ],
      "metadata": {
        "colab": {
          "base_uri": "https://localhost:8080/",
          "height": 300
        },
        "id": "TjOX0Eza2RYe",
        "outputId": "893d0a50-a60a-49ed-93b9-b5c17f4b766e"
      },
      "execution_count": null,
      "outputs": [
        {
          "output_type": "execute_result",
          "data": {
            "text/plain": [
              "            0           1           2           3           4           5  \\\n",
              "0  120.936983  124.100038  124.245988  123.927154  124.112402  124.308507   \n",
              "1  123.465217  126.398377  126.513568  126.232078  126.564662  126.600454   \n",
              "2  118.735054  121.937691  122.222802  121.753684  121.936010  122.204681   \n",
              "3  122.905344  125.849570  126.006568  125.820990  125.975764  126.174310   \n",
              "4  120.486092  123.582686  123.705956  123.279740  123.590537  123.707338   \n",
              "\n",
              "            6           7           8           9  ...         504  \\\n",
              "0  124.304275  124.179082  124.193281  124.419315  ...  165.200116   \n",
              "1  126.687338  126.665864  126.663428  126.812157  ...  165.711708   \n",
              "2  122.211522  122.392191  122.276255  122.365782  ...  156.929456   \n",
              "3  126.202263  126.295669  126.278243  126.449474  ...  157.857579   \n",
              "4  123.759219  123.741586  123.746968  123.760098  ...  166.022148   \n",
              "\n",
              "          505         506         507         508         509         510  \\\n",
              "0  168.640128  170.593622  168.503220  164.653732  161.515533  165.354719   \n",
              "1  165.634871  166.444124  168.213004  170.495510  171.860799  175.179427   \n",
              "2  153.763250  153.143993  155.464798  160.277405  161.313385  165.482314   \n",
              "3  155.774969  156.414269  159.099916  162.613608  164.627227  170.291814   \n",
              "4  169.035596  173.087298  172.979531  169.463524  165.211606  167.089659   \n",
              "\n",
              "          511         512  label  \n",
              "0  169.537315  168.527139      1  \n",
              "1  179.145702  177.770790      1  \n",
              "2  170.169580  169.119508      1  \n",
              "3  174.686052  172.737359      1  \n",
              "4  169.885832  168.463253      1  \n",
              "\n",
              "[5 rows x 514 columns]"
            ],
            "text/html": [
              "\n",
              "  <div id=\"df-a3bd7e42-f69f-468d-a03e-36487348f9c4\">\n",
              "    <div class=\"colab-df-container\">\n",
              "      <div>\n",
              "<style scoped>\n",
              "    .dataframe tbody tr th:only-of-type {\n",
              "        vertical-align: middle;\n",
              "    }\n",
              "\n",
              "    .dataframe tbody tr th {\n",
              "        vertical-align: top;\n",
              "    }\n",
              "\n",
              "    .dataframe thead th {\n",
              "        text-align: right;\n",
              "    }\n",
              "</style>\n",
              "<table border=\"1\" class=\"dataframe\">\n",
              "  <thead>\n",
              "    <tr style=\"text-align: right;\">\n",
              "      <th></th>\n",
              "      <th>0</th>\n",
              "      <th>1</th>\n",
              "      <th>2</th>\n",
              "      <th>3</th>\n",
              "      <th>4</th>\n",
              "      <th>5</th>\n",
              "      <th>6</th>\n",
              "      <th>7</th>\n",
              "      <th>8</th>\n",
              "      <th>9</th>\n",
              "      <th>...</th>\n",
              "      <th>504</th>\n",
              "      <th>505</th>\n",
              "      <th>506</th>\n",
              "      <th>507</th>\n",
              "      <th>508</th>\n",
              "      <th>509</th>\n",
              "      <th>510</th>\n",
              "      <th>511</th>\n",
              "      <th>512</th>\n",
              "      <th>label</th>\n",
              "    </tr>\n",
              "  </thead>\n",
              "  <tbody>\n",
              "    <tr>\n",
              "      <th>0</th>\n",
              "      <td>120.936983</td>\n",
              "      <td>124.100038</td>\n",
              "      <td>124.245988</td>\n",
              "      <td>123.927154</td>\n",
              "      <td>124.112402</td>\n",
              "      <td>124.308507</td>\n",
              "      <td>124.304275</td>\n",
              "      <td>124.179082</td>\n",
              "      <td>124.193281</td>\n",
              "      <td>124.419315</td>\n",
              "      <td>...</td>\n",
              "      <td>165.200116</td>\n",
              "      <td>168.640128</td>\n",
              "      <td>170.593622</td>\n",
              "      <td>168.503220</td>\n",
              "      <td>164.653732</td>\n",
              "      <td>161.515533</td>\n",
              "      <td>165.354719</td>\n",
              "      <td>169.537315</td>\n",
              "      <td>168.527139</td>\n",
              "      <td>1</td>\n",
              "    </tr>\n",
              "    <tr>\n",
              "      <th>1</th>\n",
              "      <td>123.465217</td>\n",
              "      <td>126.398377</td>\n",
              "      <td>126.513568</td>\n",
              "      <td>126.232078</td>\n",
              "      <td>126.564662</td>\n",
              "      <td>126.600454</td>\n",
              "      <td>126.687338</td>\n",
              "      <td>126.665864</td>\n",
              "      <td>126.663428</td>\n",
              "      <td>126.812157</td>\n",
              "      <td>...</td>\n",
              "      <td>165.711708</td>\n",
              "      <td>165.634871</td>\n",
              "      <td>166.444124</td>\n",
              "      <td>168.213004</td>\n",
              "      <td>170.495510</td>\n",
              "      <td>171.860799</td>\n",
              "      <td>175.179427</td>\n",
              "      <td>179.145702</td>\n",
              "      <td>177.770790</td>\n",
              "      <td>1</td>\n",
              "    </tr>\n",
              "    <tr>\n",
              "      <th>2</th>\n",
              "      <td>118.735054</td>\n",
              "      <td>121.937691</td>\n",
              "      <td>122.222802</td>\n",
              "      <td>121.753684</td>\n",
              "      <td>121.936010</td>\n",
              "      <td>122.204681</td>\n",
              "      <td>122.211522</td>\n",
              "      <td>122.392191</td>\n",
              "      <td>122.276255</td>\n",
              "      <td>122.365782</td>\n",
              "      <td>...</td>\n",
              "      <td>156.929456</td>\n",
              "      <td>153.763250</td>\n",
              "      <td>153.143993</td>\n",
              "      <td>155.464798</td>\n",
              "      <td>160.277405</td>\n",
              "      <td>161.313385</td>\n",
              "      <td>165.482314</td>\n",
              "      <td>170.169580</td>\n",
              "      <td>169.119508</td>\n",
              "      <td>1</td>\n",
              "    </tr>\n",
              "    <tr>\n",
              "      <th>3</th>\n",
              "      <td>122.905344</td>\n",
              "      <td>125.849570</td>\n",
              "      <td>126.006568</td>\n",
              "      <td>125.820990</td>\n",
              "      <td>125.975764</td>\n",
              "      <td>126.174310</td>\n",
              "      <td>126.202263</td>\n",
              "      <td>126.295669</td>\n",
              "      <td>126.278243</td>\n",
              "      <td>126.449474</td>\n",
              "      <td>...</td>\n",
              "      <td>157.857579</td>\n",
              "      <td>155.774969</td>\n",
              "      <td>156.414269</td>\n",
              "      <td>159.099916</td>\n",
              "      <td>162.613608</td>\n",
              "      <td>164.627227</td>\n",
              "      <td>170.291814</td>\n",
              "      <td>174.686052</td>\n",
              "      <td>172.737359</td>\n",
              "      <td>1</td>\n",
              "    </tr>\n",
              "    <tr>\n",
              "      <th>4</th>\n",
              "      <td>120.486092</td>\n",
              "      <td>123.582686</td>\n",
              "      <td>123.705956</td>\n",
              "      <td>123.279740</td>\n",
              "      <td>123.590537</td>\n",
              "      <td>123.707338</td>\n",
              "      <td>123.759219</td>\n",
              "      <td>123.741586</td>\n",
              "      <td>123.746968</td>\n",
              "      <td>123.760098</td>\n",
              "      <td>...</td>\n",
              "      <td>166.022148</td>\n",
              "      <td>169.035596</td>\n",
              "      <td>173.087298</td>\n",
              "      <td>172.979531</td>\n",
              "      <td>169.463524</td>\n",
              "      <td>165.211606</td>\n",
              "      <td>167.089659</td>\n",
              "      <td>169.885832</td>\n",
              "      <td>168.463253</td>\n",
              "      <td>1</td>\n",
              "    </tr>\n",
              "  </tbody>\n",
              "</table>\n",
              "<p>5 rows × 514 columns</p>\n",
              "</div>\n",
              "      <button class=\"colab-df-convert\" onclick=\"convertToInteractive('df-a3bd7e42-f69f-468d-a03e-36487348f9c4')\"\n",
              "              title=\"Convert this dataframe to an interactive table.\"\n",
              "              style=\"display:none;\">\n",
              "        \n",
              "  <svg xmlns=\"http://www.w3.org/2000/svg\" height=\"24px\"viewBox=\"0 0 24 24\"\n",
              "       width=\"24px\">\n",
              "    <path d=\"M0 0h24v24H0V0z\" fill=\"none\"/>\n",
              "    <path d=\"M18.56 5.44l.94 2.06.94-2.06 2.06-.94-2.06-.94-.94-2.06-.94 2.06-2.06.94zm-11 1L8.5 8.5l.94-2.06 2.06-.94-2.06-.94L8.5 2.5l-.94 2.06-2.06.94zm10 10l.94 2.06.94-2.06 2.06-.94-2.06-.94-.94-2.06-.94 2.06-2.06.94z\"/><path d=\"M17.41 7.96l-1.37-1.37c-.4-.4-.92-.59-1.43-.59-.52 0-1.04.2-1.43.59L10.3 9.45l-7.72 7.72c-.78.78-.78 2.05 0 2.83L4 21.41c.39.39.9.59 1.41.59.51 0 1.02-.2 1.41-.59l7.78-7.78 2.81-2.81c.8-.78.8-2.07 0-2.86zM5.41 20L4 18.59l7.72-7.72 1.47 1.35L5.41 20z\"/>\n",
              "  </svg>\n",
              "      </button>\n",
              "      \n",
              "  <style>\n",
              "    .colab-df-container {\n",
              "      display:flex;\n",
              "      flex-wrap:wrap;\n",
              "      gap: 12px;\n",
              "    }\n",
              "\n",
              "    .colab-df-convert {\n",
              "      background-color: #E8F0FE;\n",
              "      border: none;\n",
              "      border-radius: 50%;\n",
              "      cursor: pointer;\n",
              "      display: none;\n",
              "      fill: #1967D2;\n",
              "      height: 32px;\n",
              "      padding: 0 0 0 0;\n",
              "      width: 32px;\n",
              "    }\n",
              "\n",
              "    .colab-df-convert:hover {\n",
              "      background-color: #E2EBFA;\n",
              "      box-shadow: 0px 1px 2px rgba(60, 64, 67, 0.3), 0px 1px 3px 1px rgba(60, 64, 67, 0.15);\n",
              "      fill: #174EA6;\n",
              "    }\n",
              "\n",
              "    [theme=dark] .colab-df-convert {\n",
              "      background-color: #3B4455;\n",
              "      fill: #D2E3FC;\n",
              "    }\n",
              "\n",
              "    [theme=dark] .colab-df-convert:hover {\n",
              "      background-color: #434B5C;\n",
              "      box-shadow: 0px 1px 3px 1px rgba(0, 0, 0, 0.15);\n",
              "      filter: drop-shadow(0px 1px 2px rgba(0, 0, 0, 0.3));\n",
              "      fill: #FFFFFF;\n",
              "    }\n",
              "  </style>\n",
              "\n",
              "      <script>\n",
              "        const buttonEl =\n",
              "          document.querySelector('#df-a3bd7e42-f69f-468d-a03e-36487348f9c4 button.colab-df-convert');\n",
              "        buttonEl.style.display =\n",
              "          google.colab.kernel.accessAllowed ? 'block' : 'none';\n",
              "\n",
              "        async function convertToInteractive(key) {\n",
              "          const element = document.querySelector('#df-a3bd7e42-f69f-468d-a03e-36487348f9c4');\n",
              "          const dataTable =\n",
              "            await google.colab.kernel.invokeFunction('convertToInteractive',\n",
              "                                                     [key], {});\n",
              "          if (!dataTable) return;\n",
              "\n",
              "          const docLinkHtml = 'Like what you see? Visit the ' +\n",
              "            '<a target=\"_blank\" href=https://colab.research.google.com/notebooks/data_table.ipynb>data table notebook</a>'\n",
              "            + ' to learn more about interactive tables.';\n",
              "          element.innerHTML = '';\n",
              "          dataTable['output_type'] = 'display_data';\n",
              "          await google.colab.output.renderOutput(dataTable, element);\n",
              "          const docLink = document.createElement('div');\n",
              "          docLink.innerHTML = docLinkHtml;\n",
              "          element.appendChild(docLink);\n",
              "        }\n",
              "      </script>\n",
              "    </div>\n",
              "  </div>\n",
              "  "
            ]
          },
          "metadata": {},
          "execution_count": 23
        }
      ]
    },
    {
      "cell_type": "code",
      "source": [
        "newdf.replace([np.inf, -np.inf], np.nan, inplace=True)\n",
        "# Drop rows with NaN\n",
        "newdf.dropna(inplace=True)"
      ],
      "metadata": {
        "id": "XvMDzDxf3GHw"
      },
      "execution_count": null,
      "outputs": []
    },
    {
      "cell_type": "code",
      "source": [
        "newdf.head() # row 31 and 40 gets deleted"
      ],
      "metadata": {
        "colab": {
          "base_uri": "https://localhost:8080/",
          "height": 300
        },
        "id": "FoHHUDOZ3Kwv",
        "outputId": "4f7cc902-05b1-4634-c12d-477b57cc58e6"
      },
      "execution_count": null,
      "outputs": [
        {
          "output_type": "execute_result",
          "data": {
            "text/plain": [
              "            0           1           2           3           4           5  \\\n",
              "0  120.936983  124.100038  124.245988  123.927154  124.112402  124.308507   \n",
              "1  123.465217  126.398377  126.513568  126.232078  126.564662  126.600454   \n",
              "2  118.735054  121.937691  122.222802  121.753684  121.936010  122.204681   \n",
              "3  122.905344  125.849570  126.006568  125.820990  125.975764  126.174310   \n",
              "4  120.486092  123.582686  123.705956  123.279740  123.590537  123.707338   \n",
              "\n",
              "            6           7           8           9  ...         504  \\\n",
              "0  124.304275  124.179082  124.193281  124.419315  ...  165.200116   \n",
              "1  126.687338  126.665864  126.663428  126.812157  ...  165.711708   \n",
              "2  122.211522  122.392191  122.276255  122.365782  ...  156.929456   \n",
              "3  126.202263  126.295669  126.278243  126.449474  ...  157.857579   \n",
              "4  123.759219  123.741586  123.746968  123.760098  ...  166.022148   \n",
              "\n",
              "          505         506         507         508         509         510  \\\n",
              "0  168.640128  170.593622  168.503220  164.653732  161.515533  165.354719   \n",
              "1  165.634871  166.444124  168.213004  170.495510  171.860799  175.179427   \n",
              "2  153.763250  153.143993  155.464798  160.277405  161.313385  165.482314   \n",
              "3  155.774969  156.414269  159.099916  162.613608  164.627227  170.291814   \n",
              "4  169.035596  173.087298  172.979531  169.463524  165.211606  167.089659   \n",
              "\n",
              "          511         512  label  \n",
              "0  169.537315  168.527139      1  \n",
              "1  179.145702  177.770790      1  \n",
              "2  170.169580  169.119508      1  \n",
              "3  174.686052  172.737359      1  \n",
              "4  169.885832  168.463253      1  \n",
              "\n",
              "[5 rows x 514 columns]"
            ],
            "text/html": [
              "\n",
              "  <div id=\"df-80c63d48-8137-4fd6-8c37-fb575d213fd2\">\n",
              "    <div class=\"colab-df-container\">\n",
              "      <div>\n",
              "<style scoped>\n",
              "    .dataframe tbody tr th:only-of-type {\n",
              "        vertical-align: middle;\n",
              "    }\n",
              "\n",
              "    .dataframe tbody tr th {\n",
              "        vertical-align: top;\n",
              "    }\n",
              "\n",
              "    .dataframe thead th {\n",
              "        text-align: right;\n",
              "    }\n",
              "</style>\n",
              "<table border=\"1\" class=\"dataframe\">\n",
              "  <thead>\n",
              "    <tr style=\"text-align: right;\">\n",
              "      <th></th>\n",
              "      <th>0</th>\n",
              "      <th>1</th>\n",
              "      <th>2</th>\n",
              "      <th>3</th>\n",
              "      <th>4</th>\n",
              "      <th>5</th>\n",
              "      <th>6</th>\n",
              "      <th>7</th>\n",
              "      <th>8</th>\n",
              "      <th>9</th>\n",
              "      <th>...</th>\n",
              "      <th>504</th>\n",
              "      <th>505</th>\n",
              "      <th>506</th>\n",
              "      <th>507</th>\n",
              "      <th>508</th>\n",
              "      <th>509</th>\n",
              "      <th>510</th>\n",
              "      <th>511</th>\n",
              "      <th>512</th>\n",
              "      <th>label</th>\n",
              "    </tr>\n",
              "  </thead>\n",
              "  <tbody>\n",
              "    <tr>\n",
              "      <th>0</th>\n",
              "      <td>120.936983</td>\n",
              "      <td>124.100038</td>\n",
              "      <td>124.245988</td>\n",
              "      <td>123.927154</td>\n",
              "      <td>124.112402</td>\n",
              "      <td>124.308507</td>\n",
              "      <td>124.304275</td>\n",
              "      <td>124.179082</td>\n",
              "      <td>124.193281</td>\n",
              "      <td>124.419315</td>\n",
              "      <td>...</td>\n",
              "      <td>165.200116</td>\n",
              "      <td>168.640128</td>\n",
              "      <td>170.593622</td>\n",
              "      <td>168.503220</td>\n",
              "      <td>164.653732</td>\n",
              "      <td>161.515533</td>\n",
              "      <td>165.354719</td>\n",
              "      <td>169.537315</td>\n",
              "      <td>168.527139</td>\n",
              "      <td>1</td>\n",
              "    </tr>\n",
              "    <tr>\n",
              "      <th>1</th>\n",
              "      <td>123.465217</td>\n",
              "      <td>126.398377</td>\n",
              "      <td>126.513568</td>\n",
              "      <td>126.232078</td>\n",
              "      <td>126.564662</td>\n",
              "      <td>126.600454</td>\n",
              "      <td>126.687338</td>\n",
              "      <td>126.665864</td>\n",
              "      <td>126.663428</td>\n",
              "      <td>126.812157</td>\n",
              "      <td>...</td>\n",
              "      <td>165.711708</td>\n",
              "      <td>165.634871</td>\n",
              "      <td>166.444124</td>\n",
              "      <td>168.213004</td>\n",
              "      <td>170.495510</td>\n",
              "      <td>171.860799</td>\n",
              "      <td>175.179427</td>\n",
              "      <td>179.145702</td>\n",
              "      <td>177.770790</td>\n",
              "      <td>1</td>\n",
              "    </tr>\n",
              "    <tr>\n",
              "      <th>2</th>\n",
              "      <td>118.735054</td>\n",
              "      <td>121.937691</td>\n",
              "      <td>122.222802</td>\n",
              "      <td>121.753684</td>\n",
              "      <td>121.936010</td>\n",
              "      <td>122.204681</td>\n",
              "      <td>122.211522</td>\n",
              "      <td>122.392191</td>\n",
              "      <td>122.276255</td>\n",
              "      <td>122.365782</td>\n",
              "      <td>...</td>\n",
              "      <td>156.929456</td>\n",
              "      <td>153.763250</td>\n",
              "      <td>153.143993</td>\n",
              "      <td>155.464798</td>\n",
              "      <td>160.277405</td>\n",
              "      <td>161.313385</td>\n",
              "      <td>165.482314</td>\n",
              "      <td>170.169580</td>\n",
              "      <td>169.119508</td>\n",
              "      <td>1</td>\n",
              "    </tr>\n",
              "    <tr>\n",
              "      <th>3</th>\n",
              "      <td>122.905344</td>\n",
              "      <td>125.849570</td>\n",
              "      <td>126.006568</td>\n",
              "      <td>125.820990</td>\n",
              "      <td>125.975764</td>\n",
              "      <td>126.174310</td>\n",
              "      <td>126.202263</td>\n",
              "      <td>126.295669</td>\n",
              "      <td>126.278243</td>\n",
              "      <td>126.449474</td>\n",
              "      <td>...</td>\n",
              "      <td>157.857579</td>\n",
              "      <td>155.774969</td>\n",
              "      <td>156.414269</td>\n",
              "      <td>159.099916</td>\n",
              "      <td>162.613608</td>\n",
              "      <td>164.627227</td>\n",
              "      <td>170.291814</td>\n",
              "      <td>174.686052</td>\n",
              "      <td>172.737359</td>\n",
              "      <td>1</td>\n",
              "    </tr>\n",
              "    <tr>\n",
              "      <th>4</th>\n",
              "      <td>120.486092</td>\n",
              "      <td>123.582686</td>\n",
              "      <td>123.705956</td>\n",
              "      <td>123.279740</td>\n",
              "      <td>123.590537</td>\n",
              "      <td>123.707338</td>\n",
              "      <td>123.759219</td>\n",
              "      <td>123.741586</td>\n",
              "      <td>123.746968</td>\n",
              "      <td>123.760098</td>\n",
              "      <td>...</td>\n",
              "      <td>166.022148</td>\n",
              "      <td>169.035596</td>\n",
              "      <td>173.087298</td>\n",
              "      <td>172.979531</td>\n",
              "      <td>169.463524</td>\n",
              "      <td>165.211606</td>\n",
              "      <td>167.089659</td>\n",
              "      <td>169.885832</td>\n",
              "      <td>168.463253</td>\n",
              "      <td>1</td>\n",
              "    </tr>\n",
              "  </tbody>\n",
              "</table>\n",
              "<p>5 rows × 514 columns</p>\n",
              "</div>\n",
              "      <button class=\"colab-df-convert\" onclick=\"convertToInteractive('df-80c63d48-8137-4fd6-8c37-fb575d213fd2')\"\n",
              "              title=\"Convert this dataframe to an interactive table.\"\n",
              "              style=\"display:none;\">\n",
              "        \n",
              "  <svg xmlns=\"http://www.w3.org/2000/svg\" height=\"24px\"viewBox=\"0 0 24 24\"\n",
              "       width=\"24px\">\n",
              "    <path d=\"M0 0h24v24H0V0z\" fill=\"none\"/>\n",
              "    <path d=\"M18.56 5.44l.94 2.06.94-2.06 2.06-.94-2.06-.94-.94-2.06-.94 2.06-2.06.94zm-11 1L8.5 8.5l.94-2.06 2.06-.94-2.06-.94L8.5 2.5l-.94 2.06-2.06.94zm10 10l.94 2.06.94-2.06 2.06-.94-2.06-.94-.94-2.06-.94 2.06-2.06.94z\"/><path d=\"M17.41 7.96l-1.37-1.37c-.4-.4-.92-.59-1.43-.59-.52 0-1.04.2-1.43.59L10.3 9.45l-7.72 7.72c-.78.78-.78 2.05 0 2.83L4 21.41c.39.39.9.59 1.41.59.51 0 1.02-.2 1.41-.59l7.78-7.78 2.81-2.81c.8-.78.8-2.07 0-2.86zM5.41 20L4 18.59l7.72-7.72 1.47 1.35L5.41 20z\"/>\n",
              "  </svg>\n",
              "      </button>\n",
              "      \n",
              "  <style>\n",
              "    .colab-df-container {\n",
              "      display:flex;\n",
              "      flex-wrap:wrap;\n",
              "      gap: 12px;\n",
              "    }\n",
              "\n",
              "    .colab-df-convert {\n",
              "      background-color: #E8F0FE;\n",
              "      border: none;\n",
              "      border-radius: 50%;\n",
              "      cursor: pointer;\n",
              "      display: none;\n",
              "      fill: #1967D2;\n",
              "      height: 32px;\n",
              "      padding: 0 0 0 0;\n",
              "      width: 32px;\n",
              "    }\n",
              "\n",
              "    .colab-df-convert:hover {\n",
              "      background-color: #E2EBFA;\n",
              "      box-shadow: 0px 1px 2px rgba(60, 64, 67, 0.3), 0px 1px 3px 1px rgba(60, 64, 67, 0.15);\n",
              "      fill: #174EA6;\n",
              "    }\n",
              "\n",
              "    [theme=dark] .colab-df-convert {\n",
              "      background-color: #3B4455;\n",
              "      fill: #D2E3FC;\n",
              "    }\n",
              "\n",
              "    [theme=dark] .colab-df-convert:hover {\n",
              "      background-color: #434B5C;\n",
              "      box-shadow: 0px 1px 3px 1px rgba(0, 0, 0, 0.15);\n",
              "      filter: drop-shadow(0px 1px 2px rgba(0, 0, 0, 0.3));\n",
              "      fill: #FFFFFF;\n",
              "    }\n",
              "  </style>\n",
              "\n",
              "      <script>\n",
              "        const buttonEl =\n",
              "          document.querySelector('#df-80c63d48-8137-4fd6-8c37-fb575d213fd2 button.colab-df-convert');\n",
              "        buttonEl.style.display =\n",
              "          google.colab.kernel.accessAllowed ? 'block' : 'none';\n",
              "\n",
              "        async function convertToInteractive(key) {\n",
              "          const element = document.querySelector('#df-80c63d48-8137-4fd6-8c37-fb575d213fd2');\n",
              "          const dataTable =\n",
              "            await google.colab.kernel.invokeFunction('convertToInteractive',\n",
              "                                                     [key], {});\n",
              "          if (!dataTable) return;\n",
              "\n",
              "          const docLinkHtml = 'Like what you see? Visit the ' +\n",
              "            '<a target=\"_blank\" href=https://colab.research.google.com/notebooks/data_table.ipynb>data table notebook</a>'\n",
              "            + ' to learn more about interactive tables.';\n",
              "          element.innerHTML = '';\n",
              "          dataTable['output_type'] = 'display_data';\n",
              "          await google.colab.output.renderOutput(dataTable, element);\n",
              "          const docLink = document.createElement('div');\n",
              "          docLink.innerHTML = docLinkHtml;\n",
              "          element.appendChild(docLink);\n",
              "        }\n",
              "      </script>\n",
              "    </div>\n",
              "  </div>\n",
              "  "
            ]
          },
          "metadata": {},
          "execution_count": 25
        }
      ]
    },
    {
      "cell_type": "code",
      "source": [
        "combined_df = newdf"
      ],
      "metadata": {
        "id": "PFQkErb532Gd"
      },
      "execution_count": null,
      "outputs": []
    },
    {
      "cell_type": "code",
      "source": [
        "from sklearn.model_selection import StratifiedShuffleSplit\n",
        "X = combined_df.drop(['label'], axis=1)\n",
        "y = combined_df.label\n",
        "xxx = StratifiedShuffleSplit(1, test_size=0.2, random_state=12)\n",
        "for train_index, test_index in xxx.split(X, y):\n",
        "    X_train, X_test = X.iloc[train_index], X.iloc[test_index]\n",
        "    y_train, y_test = y.iloc[train_index], y.iloc[test_index]"
      ],
      "metadata": {
        "id": "6t_SrdFd3p5i"
      },
      "execution_count": null,
      "outputs": []
    },
    {
      "cell_type": "code",
      "source": [
        "X_train = np.array(X_train)\n",
        "y_train = np.array(y_train)\n",
        "X_test = np.array(X_test)\n",
        "y_test = np.array(y_test)"
      ],
      "metadata": {
        "id": "TiCaZO5r36gV"
      },
      "execution_count": null,
      "outputs": []
    },
    {
      "cell_type": "code",
      "source": [
        "X_train.shape"
      ],
      "metadata": {
        "colab": {
          "base_uri": "https://localhost:8080/"
        },
        "id": "i39htM7E4dqg",
        "outputId": "eb139d8c-7452-4b05-8e0c-4c3852a0fd07"
      },
      "execution_count": null,
      "outputs": [
        {
          "output_type": "execute_result",
          "data": {
            "text/plain": [
              "(40, 513)"
            ]
          },
          "metadata": {},
          "execution_count": 66
        }
      ]
    },
    {
      "cell_type": "code",
      "source": [
        "y_train"
      ],
      "metadata": {
        "colab": {
          "base_uri": "https://localhost:8080/"
        },
        "id": "bRMK-QWeNvD9",
        "outputId": "fb3f8554-ecbf-4ec2-a36c-d489442161e6"
      },
      "execution_count": null,
      "outputs": [
        {
          "output_type": "execute_result",
          "data": {
            "text/plain": [
              "array([0, 0, 0, 1, 0, 0, 1, 1, 0, 0, 1, 1, 0, 1, 0, 0, 0, 0, 0, 0, 0, 1,\n",
              "       1, 0, 0, 1, 0, 1, 1, 0, 1, 0, 0, 1, 0, 1, 1, 0, 0, 1])"
            ]
          },
          "metadata": {},
          "execution_count": 67
        }
      ]
    },
    {
      "cell_type": "code",
      "source": [
        "X_train[0]"
      ],
      "metadata": {
        "colab": {
          "base_uri": "https://localhost:8080/"
        },
        "id": "TN33I0VkQX_k",
        "outputId": "385793fd-4619-4ec2-cf5d-ed8eed8035ac"
      },
      "execution_count": null,
      "outputs": [
        {
          "output_type": "execute_result",
          "data": {
            "text/plain": [
              "array([124.71814159, 127.59192554, 127.77647776, 127.45668368,\n",
              "       127.66526167, 127.91124397, 127.83337068, 127.8389179 ,\n",
              "       127.81577528, 127.81802303, 127.86488821, 128.12147854,\n",
              "       128.33523245, 128.35126304, 128.59578447, 128.62341768,\n",
              "       128.69099339, 128.7515971 , 128.66686918, 128.70042129,\n",
              "       128.74763954, 128.95120297, 129.07970797, 129.17991234,\n",
              "       129.29472845, 129.50089602, 129.51999959, 129.42548953,\n",
              "       129.52594621, 129.64807748, 129.79982357, 129.86423773,\n",
              "       130.00803347, 130.29576319, 130.34301468, 130.51835539,\n",
              "       130.57738956, 130.88869413, 130.9028991 , 131.04128175,\n",
              "       131.15669328, 131.36987757, 131.48660641, 131.64094874,\n",
              "       131.79444525, 131.97914939, 132.217252  , 132.41605319,\n",
              "       132.60981054, 132.83093719, 133.00680851, 133.13725479,\n",
              "       133.31915737, 133.48450897, 133.81305869, 133.87646224,\n",
              "       134.02548893, 134.20014165, 134.40403165, 134.64563798,\n",
              "       134.70863563, 134.89405171, 135.10628031, 135.23744094,\n",
              "       135.52153578, 135.76730499, 135.93597213, 136.06739862,\n",
              "       136.21816723, 136.27988239, 136.32654734, 136.5410072 ,\n",
              "       136.72060742, 136.92988387, 137.12656696, 137.20866343,\n",
              "       137.30262973, 137.2238346 , 137.17984555, 137.18153231,\n",
              "       137.28092066, 137.46660034, 137.66281065, 137.79166956,\n",
              "       137.78261628, 137.91780742, 137.90638389, 137.88935486,\n",
              "       137.78140703, 137.83400442, 137.85456596, 138.01487126,\n",
              "       137.95299382, 138.15835173, 138.08909983, 138.0934507 ,\n",
              "       137.95484697, 138.05786043, 137.93426724, 137.7915362 ,\n",
              "       137.9725925 , 138.14065328, 138.16541022, 138.1313013 ,\n",
              "       137.95913813, 137.80951134, 137.87118046, 137.98286501,\n",
              "       137.97460369, 137.99547482, 138.11452907, 138.2135814 ,\n",
              "       138.21703541, 138.33333554, 138.0124365 , 138.00608867,\n",
              "       138.02088363, 138.03897462, 138.22002213, 138.37969977,\n",
              "       138.27670665, 138.23887079, 138.34957296, 138.30985339,\n",
              "       138.22610761, 138.09986224, 138.01781103, 138.05368406,\n",
              "       138.0695224 , 138.07476459, 138.15615145, 138.13378596,\n",
              "       138.10853497, 138.06552629, 137.95118293, 137.90515537,\n",
              "       137.82578786, 137.78494268, 137.76637923, 137.73991077,\n",
              "       137.66974578, 137.57122348, 137.36140316, 137.2489336 ,\n",
              "       137.14785817, 137.0268294 , 136.98895642, 136.87331276,\n",
              "       136.83437855, 136.73146601, 136.67655457, 136.56289952,\n",
              "       136.48563392, 136.43027394, 136.40428761, 136.32630544,\n",
              "       136.36819678, 136.36206083, 136.2687523 , 136.10322336,\n",
              "       136.00510858, 136.01820338, 135.96757216, 136.00928965,\n",
              "       136.1090723 , 136.07954559, 136.12887725, 136.09570247,\n",
              "       136.0237057 , 136.05869733, 136.09153127, 136.11468736,\n",
              "       136.25185377, 136.31635707, 136.47138406, 136.59626698,\n",
              "       136.62653852, 136.74331834, 136.63137085, 136.7114075 ,\n",
              "       136.9755932 , 137.11510654, 137.21285696, 137.40156888,\n",
              "       137.58489816, 137.64824695, 137.73392558, 137.7884092 ,\n",
              "       137.94753457, 138.06406912, 138.35073639, 138.57229148,\n",
              "       138.847018  , 138.96922517, 139.1065346 , 139.16192295,\n",
              "       139.35780536, 139.56940435, 139.85940669, 140.10160572,\n",
              "       140.27461382, 140.63536351, 140.91642307, 141.10683372,\n",
              "       141.19825625, 141.51792554, 141.76465806, 142.00037243,\n",
              "       142.2844763 , 142.49337662, 142.75940927, 143.0638224 ,\n",
              "       143.27201616, 143.38293711, 143.49191409, 143.697835  ,\n",
              "       143.94332556, 144.11224   , 144.38622915, 144.6258469 ,\n",
              "       144.79065983, 144.87230408, 145.02972567, 145.23416126,\n",
              "       145.47999929, 145.61761377, 145.75271105, 146.04512269,\n",
              "       146.40982448, 146.52525627, 146.76112375, 146.92388988,\n",
              "       147.07908402, 147.27289437, 147.41139572, 147.60940398,\n",
              "       147.68174213, 147.82429032, 148.06681967, 148.17879449,\n",
              "       148.08179234, 148.04123776, 148.00125462, 147.97371933,\n",
              "       148.07419147, 148.11212789, 148.21357476, 148.15469672,\n",
              "       148.30760308, 148.12787008, 148.08467053, 148.26969009,\n",
              "       148.31577256, 148.45806048, 148.60328263, 148.97352922,\n",
              "       149.18796726, 148.94591139, 148.99440994, 149.13641929,\n",
              "       149.30863336, 149.41256768, 149.60248664, 149.94587583,\n",
              "       150.21716119, 150.19052052, 150.02208146, 150.07343027,\n",
              "       150.12171288, 150.01371313, 150.1818416 , 150.4292531 ,\n",
              "       150.41790855, 150.55532203, 150.95538235, 150.85208507,\n",
              "       150.62822537, 150.54345987, 150.4465953 , 150.35773877,\n",
              "       150.50574524, 150.6076199 , 150.81402204, 150.89266998,\n",
              "       150.69088424, 150.62555087, 150.76324028, 150.58104898,\n",
              "       150.26556391, 150.13631632, 150.26376234, 150.36592616,\n",
              "       150.50076845, 150.32816397, 150.1968242 , 150.09382034,\n",
              "       150.07781081, 149.70322757, 149.37901909, 149.38659093,\n",
              "       149.49959106, 149.34697336, 149.43119435, 149.5346326 ,\n",
              "       149.461889  , 149.24455826, 149.2012255 , 149.08042914,\n",
              "       148.86023327, 148.78589879, 148.83386844, 148.84331948,\n",
              "       148.91913291, 148.98434038, 148.81625104, 148.63985042,\n",
              "       148.73504222, 148.63328047, 148.42211433, 148.40664944,\n",
              "       148.52465946, 148.5147078 , 148.62106096, 148.55730879,\n",
              "       148.43099869, 148.42599506, 148.31609128, 148.46627849,\n",
              "       148.60180217, 148.36510215, 148.31527693, 148.6529656 ,\n",
              "       148.96436499, 149.10573783, 149.02172379, 149.09638592,\n",
              "       149.33398728, 149.59473106, 149.80112037, 149.93214234,\n",
              "       150.06076473, 150.52237784, 150.82611541, 151.17035152,\n",
              "       151.38977517, 151.63144434, 152.04689701, 152.48031128,\n",
              "       152.68461625, 152.80682861, 152.86698957, 153.15716445,\n",
              "       153.45450395, 153.77977006, 153.95775525, 154.12953144,\n",
              "       154.37082548, 154.15974253, 154.13115621, 154.20041776,\n",
              "       154.16235837, 154.10519402, 154.31740156, 154.73758923,\n",
              "       154.88187127, 154.6473113 , 154.44614184, 154.38737503,\n",
              "       154.00441627, 153.79610338, 153.40118229, 153.61146682,\n",
              "       153.58618413, 153.60103019, 153.88082332, 153.53174183,\n",
              "       153.15488929, 153.06896129, 152.79391782, 152.49142116,\n",
              "       152.61073815, 152.93630218, 153.16644366, 153.31104298,\n",
              "       153.53749177, 153.57452467, 153.1251413 , 152.96162706,\n",
              "       152.83162664, 152.90665644, 153.69878487, 154.09759237,\n",
              "       154.16838481, 154.48441022, 154.36164669, 154.28758033,\n",
              "       154.2079079 , 154.03847924, 154.39735198, 154.75024294,\n",
              "       155.01880277, 155.20425405, 155.4259537 , 155.32457847,\n",
              "       155.19151456, 155.05242278, 154.98670929, 155.03151675,\n",
              "       155.16691974, 155.87622501, 155.80846686, 155.99365306,\n",
              "       156.12906828, 156.03845259, 155.6915659 , 155.5528264 ,\n",
              "       155.72196797, 155.88157759, 156.17025985, 156.62016985,\n",
              "       156.66076858, 156.54692665, 156.48586922, 156.16863828,\n",
              "       155.64617387, 155.61468423, 155.67156193, 155.57251199,\n",
              "       155.71478897, 155.87212975, 155.83238986, 155.77641117,\n",
              "       155.84163159, 155.87860064, 155.59818291, 155.71509013,\n",
              "       155.65771152, 155.88871543, 156.21309702, 156.13360018,\n",
              "       155.98595753, 156.13276952, 156.26648404, 156.43968234,\n",
              "       156.74029399, 156.64432165, 156.57976993, 156.92895695,\n",
              "       157.08580214, 157.45627185, 158.1243562 , 158.56542419,\n",
              "       158.82237417, 159.10289622, 159.41000347, 159.70106942,\n",
              "       159.83823237, 160.1548014 , 160.52235442, 160.57044579,\n",
              "       160.92276399, 161.28704067, 161.18540683, 161.49980126,\n",
              "       161.82833837, 161.9355228 , 162.5580492 , 163.36278203,\n",
              "       163.71929275, 164.25507319, 164.31082824, 165.02789493,\n",
              "       165.78346201, 166.15583887, 166.96555278, 167.50539403,\n",
              "       167.67831701, 168.07754994, 169.17337373, 170.41271455,\n",
              "       170.68032699, 170.34676852, 170.36625719, 171.39679772,\n",
              "       172.54141666, 172.20582814, 171.60587166, 171.32666337,\n",
              "       172.53348316, 174.15443663, 174.66078141, 173.69490819,\n",
              "       171.98739405, 171.55477725, 173.20674181, 174.57544945,\n",
              "       174.20519345, 172.10910943, 171.47436216, 174.20958527,\n",
              "       178.51460211, 179.62401596, 176.78006196, 171.75243257,\n",
              "       172.1158268 , 177.94508665, 182.41044121, 180.89005856,\n",
              "       173.93551122, 170.87740145, 176.50736538, 180.03770782,\n",
              "       177.43157916])"
            ]
          },
          "metadata": {},
          "execution_count": 68
        }
      ]
    },
    {
      "cell_type": "code",
      "source": [
        "from sklearn.preprocessing import StandardScaler\n",
        "sc = StandardScaler()\n",
        "X_train = sc.fit_transform(X_train)\n",
        "X_test = sc.fit_transform(X_test)"
      ],
      "metadata": {
        "id": "XjpypiQ4OjNJ"
      },
      "execution_count": null,
      "outputs": []
    },
    {
      "cell_type": "code",
      "source": [
        "X_train"
      ],
      "metadata": {
        "colab": {
          "base_uri": "https://localhost:8080/"
        },
        "id": "UeNGnwmaA3qp",
        "outputId": "5ba2f428-7e03-46d1-d4a9-373fa42a8480"
      },
      "execution_count": null,
      "outputs": [
        {
          "output_type": "execute_result",
          "data": {
            "text/plain": [
              "array([[ 0.46254109,  0.45416765,  0.47552254, ...,  1.38184197,\n",
              "         1.11945081,  0.90223682],\n",
              "       [-0.02176311, -0.02448368, -0.02288505, ...,  0.07630955,\n",
              "        -0.07233405, -0.1186564 ],\n",
              "       [-0.30733375, -0.34787437, -0.31896168, ..., -0.02213093,\n",
              "         0.24263731,  0.39669267],\n",
              "       ...,\n",
              "       [ 1.48765869,  0.94674689,  0.68795646, ...,  1.45066558,\n",
              "         1.76561656,  1.94486354],\n",
              "       [ 0.00274781,  0.00546518,  0.0068009 , ...,  0.47500487,\n",
              "         0.24549366,  0.02787445],\n",
              "       [-0.81958958, -0.79862584, -0.81174088, ..., -1.65641306,\n",
              "        -1.88865716, -1.83032961]])"
            ]
          },
          "metadata": {},
          "execution_count": 71
        }
      ]
    },
    {
      "cell_type": "code",
      "source": [
        "from tensorflow.keras import regularizers\n",
        "from tensorflow.keras.callbacks import ModelCheckpoint, LearningRateScheduler, EarlyStopping\n",
        "from tensorflow.keras.callbacks import  History, ReduceLROnPlateau, CSVLogger\n",
        "from tensorflow.keras.models import Model, Sequential\n",
        "from tensorflow.keras.layers import Dense, Embedding, LSTM\n",
        "from tensorflow.keras.layers import Input, Flatten, Dropout, Activation, BatchNormalization\n",
        "from tensorflow.keras.layers import Conv1D, MaxPooling1D, AveragePooling1D\n",
        "from tensorflow.keras.preprocessing import sequence\n",
        "from tensorflow.keras.preprocessing.sequence import pad_sequences\n",
        "from tensorflow.keras.preprocessing.text import Tokenizer\n",
        "from keras.utils import np_utils\n",
        "from tensorflow.keras.utils import to_categorical"
      ],
      "metadata": {
        "id": "qYHNVneI5EqQ"
      },
      "execution_count": null,
      "outputs": []
    },
    {
      "cell_type": "code",
      "source": [
        "classifier = Sequential()\n",
        "#First Hidden Layer\n",
        "classifier.add(Dense(4, activation='relu', kernel_initializer='random_normal', input_dim=513))#Second  Hidden Layer\n",
        "classifier.add(Dense(4, activation='relu', kernel_initializer='random_normal'))#Output Layer\n",
        "classifier.add(Dense(1, activation='sigmoid', kernel_initializer='random_normal'))"
      ],
      "metadata": {
        "id": "V9biedLcRFC0"
      },
      "execution_count": null,
      "outputs": []
    },
    {
      "cell_type": "code",
      "source": [
        "classifier.compile(optimizer ='adam',loss='binary_crossentropy', metrics =['accuracy'])"
      ],
      "metadata": {
        "id": "KWTc1034RRcD"
      },
      "execution_count": null,
      "outputs": []
    },
    {
      "cell_type": "code",
      "source": [
        "classifier.fit(X_train,y_train, batch_size=10, epochs=20)"
      ],
      "metadata": {
        "colab": {
          "base_uri": "https://localhost:8080/"
        },
        "id": "KN3rBjZQRWao",
        "outputId": "d54f03e9-3cae-49cc-f960-85485511f4a7"
      },
      "execution_count": null,
      "outputs": [
        {
          "output_type": "stream",
          "name": "stdout",
          "text": [
            "Epoch 1/20\n",
            "4/4 [==============================] - 0s 4ms/step - loss: 0.6933 - accuracy: 0.5250\n",
            "Epoch 2/20\n",
            "4/4 [==============================] - 0s 4ms/step - loss: 0.6927 - accuracy: 0.6000\n",
            "Epoch 3/20\n",
            "4/4 [==============================] - 0s 3ms/step - loss: 0.6924 - accuracy: 0.6000\n",
            "Epoch 4/20\n",
            "4/4 [==============================] - 0s 4ms/step - loss: 0.6920 - accuracy: 0.6000\n",
            "Epoch 5/20\n",
            "4/4 [==============================] - 0s 3ms/step - loss: 0.6916 - accuracy: 0.6000\n",
            "Epoch 6/20\n",
            "4/4 [==============================] - 0s 3ms/step - loss: 0.6908 - accuracy: 0.6000\n",
            "Epoch 7/20\n",
            "4/4 [==============================] - 0s 3ms/step - loss: 0.6899 - accuracy: 0.6000\n",
            "Epoch 8/20\n",
            "4/4 [==============================] - 0s 4ms/step - loss: 0.6888 - accuracy: 0.6000\n",
            "Epoch 9/20\n",
            "4/4 [==============================] - 0s 4ms/step - loss: 0.6871 - accuracy: 0.6000\n",
            "Epoch 10/20\n",
            "4/4 [==============================] - 0s 4ms/step - loss: 0.6854 - accuracy: 0.6000\n",
            "Epoch 11/20\n",
            "4/4 [==============================] - 0s 4ms/step - loss: 0.6837 - accuracy: 0.6000\n",
            "Epoch 12/20\n",
            "4/4 [==============================] - 0s 4ms/step - loss: 0.6813 - accuracy: 0.6000\n",
            "Epoch 13/20\n",
            "4/4 [==============================] - 0s 4ms/step - loss: 0.6779 - accuracy: 0.6000\n",
            "Epoch 14/20\n",
            "4/4 [==============================] - 0s 4ms/step - loss: 0.6750 - accuracy: 0.6000\n",
            "Epoch 15/20\n",
            "4/4 [==============================] - 0s 3ms/step - loss: 0.6707 - accuracy: 0.6000\n",
            "Epoch 16/20\n",
            "4/4 [==============================] - 0s 3ms/step - loss: 0.6677 - accuracy: 0.6000\n",
            "Epoch 17/20\n",
            "4/4 [==============================] - 0s 4ms/step - loss: 0.6639 - accuracy: 0.6000\n",
            "Epoch 18/20\n",
            "4/4 [==============================] - 0s 4ms/step - loss: 0.6588 - accuracy: 0.6000\n",
            "Epoch 19/20\n",
            "4/4 [==============================] - 0s 4ms/step - loss: 0.6557 - accuracy: 0.6000\n",
            "Epoch 20/20\n",
            "4/4 [==============================] - 0s 4ms/step - loss: 0.6518 - accuracy: 0.6000\n"
          ]
        },
        {
          "output_type": "execute_result",
          "data": {
            "text/plain": [
              "<keras.callbacks.History at 0x7f5776433250>"
            ]
          },
          "metadata": {},
          "execution_count": 94
        }
      ]
    },
    {
      "cell_type": "code",
      "source": [
        "classifier.save(\"/content/drive/MyDrive/DAIC-WOZ/depression-detection/cleaned_files/audio_model.h5\")"
      ],
      "metadata": {
        "id": "ult6af7WUF44"
      },
      "execution_count": null,
      "outputs": []
    },
    {
      "cell_type": "code",
      "source": [
        "eval_model=classifier.evaluate(X_train, y_train)\n",
        "eval_model"
      ],
      "metadata": {
        "colab": {
          "base_uri": "https://localhost:8080/"
        },
        "id": "kx3t_MwFSgx9",
        "outputId": "b84d3c04-f26e-462f-b928-553a8a6ddea2"
      },
      "execution_count": null,
      "outputs": [
        {
          "output_type": "stream",
          "name": "stdout",
          "text": [
            "2/2 [==============================] - 0s 6ms/step - loss: 0.6483 - accuracy: 0.6000\n"
          ]
        },
        {
          "output_type": "execute_result",
          "data": {
            "text/plain": [
              "[0.6483028531074524, 0.6000000238418579]"
            ]
          },
          "metadata": {},
          "execution_count": 95
        }
      ]
    },
    {
      "cell_type": "code",
      "source": [
        "y_pred=classifier.predict(X_test)\n",
        "y_pred =(y_pred>0.5)"
      ],
      "metadata": {
        "colab": {
          "base_uri": "https://localhost:8080/"
        },
        "id": "shiQk0ldSoiM",
        "outputId": "b842c8c6-67f1-4b60-bf6c-db814500fb67"
      },
      "execution_count": null,
      "outputs": [
        {
          "output_type": "stream",
          "name": "stdout",
          "text": [
            "1/1 [==============================] - 0s 43ms/step\n"
          ]
        }
      ]
    },
    {
      "cell_type": "code",
      "source": [
        "X_test.shape"
      ],
      "metadata": {
        "colab": {
          "base_uri": "https://localhost:8080/"
        },
        "id": "nRleNeEuSvXv",
        "outputId": "91c66104-4d09-4ddc-df22-d606fa5a79af"
      },
      "execution_count": null,
      "outputs": [
        {
          "output_type": "execute_result",
          "data": {
            "text/plain": [
              "(11, 513)"
            ]
          },
          "metadata": {},
          "execution_count": 97
        }
      ]
    },
    {
      "cell_type": "code",
      "source": [
        "from sklearn.metrics import confusion_matrix\n",
        "cm = confusion_matrix(y_test, y_pred)\n",
        "print(cm)"
      ],
      "metadata": {
        "colab": {
          "base_uri": "https://localhost:8080/"
        },
        "id": "YcAnwPe_SqSM",
        "outputId": "18fbffaa-4ce1-4e36-bcb5-60eb65d2c5f5"
      },
      "execution_count": null,
      "outputs": [
        {
          "output_type": "stream",
          "name": "stdout",
          "text": [
            "[[6 0]\n",
            " [5 0]]\n"
          ]
        }
      ]
    }
  ]
}